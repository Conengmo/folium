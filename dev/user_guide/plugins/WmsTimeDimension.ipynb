{
 "cells": [
  {
   "cell_type": "markdown",
   "id": "ac8268fe",
   "metadata": {},
   "source": [
    "# TimestampedWmsTileLayers\n",
    "\n",
    "Add a time dimension to a WMS tile layer.\n",
    "\n",
    "### Exploring the WMS with OWSLib"
   ]
  },
  {
   "cell_type": "code",
   "execution_count": 1,
   "id": "87e48e9f",
   "metadata": {
    "execution": {
     "iopub.execute_input": "2025-01-18T10:47:26.311817Z",
     "iopub.status.busy": "2025-01-18T10:47:26.311654Z",
     "iopub.status.idle": "2025-01-18T10:47:29.606701Z",
     "shell.execute_reply": "2025-01-18T10:47:29.606215Z"
    }
   },
   "outputs": [
    {
     "name": "stdout",
     "output_type": "stream",
     "text": [
      "CRW_DHW\n",
      "CRW_DHW_mask\n",
      "CRW_HOTSPOT\n",
      "CRW_HOTSPOT_mask\n",
      "CRW_SSTANOMALY\n",
      "CRW_SSTANOMALY_mask\n",
      "CRW_BAA\n",
      "CRW_BAA_mask\n",
      "CRW_BAA_7D_MAX\n",
      "CRW_BAA_7D_MAX_mask\n",
      "CRW_SEAICE\n",
      "CRW_SST\n"
     ]
    }
   ],
   "source": [
    "from owslib.wms import WebMapService\n",
    "\n",
    "\n",
    "url = \"https://pae-paha.pacioos.hawaii.edu/thredds/wms/dhw_5km?service=WMS\"\n",
    "\n",
    "web_map_services = WebMapService(url)\n",
    "\n",
    "print(\"\\n\".join(web_map_services.contents.keys()))"
   ]
  },
  {
   "cell_type": "markdown",
   "id": "424010b6",
   "metadata": {},
   "source": [
    "### Layer metadata"
   ]
  },
  {
   "cell_type": "code",
   "execution_count": 2,
   "id": "16f3606a",
   "metadata": {
    "execution": {
     "iopub.execute_input": "2025-01-18T10:47:29.608412Z",
     "iopub.status.busy": "2025-01-18T10:47:29.608081Z",
     "iopub.status.idle": "2025-01-18T10:47:29.611370Z",
     "shell.execute_reply": "2025-01-18T10:47:29.610949Z"
    }
   },
   "outputs": [],
   "source": [
    "layer = \"CRW_SST\"\n",
    "wms = web_map_services.contents[layer]\n",
    "\n",
    "name = wms.title\n",
    "\n",
    "lon = (wms.boundingBox[0] + wms.boundingBox[2]) / 2.0\n",
    "lat = (wms.boundingBox[1] + wms.boundingBox[3]) / 2.0\n",
    "center = lat, lon\n",
    "\n",
    "time_interval = \"{0}/{1}\".format(\n",
    "    wms.timepositions[0].strip(), wms.timepositions[-1].strip()\n",
    ")\n",
    "style = \"boxfill/sst_36\"\n",
    "\n",
    "if style not in wms.styles:\n",
    "    style = None"
   ]
  },
  {
   "cell_type": "markdown",
   "id": "fa781e4e",
   "metadata": {},
   "source": [
    "### Map with WmsTileLayer and TimestampedWmsTileLayers"
   ]
  },
  {
   "cell_type": "code",
   "execution_count": 3,
   "id": "8aefc122",
   "metadata": {
    "execution": {
     "iopub.execute_input": "2025-01-18T10:47:29.612892Z",
     "iopub.status.busy": "2025-01-18T10:47:29.612512Z",
     "iopub.status.idle": "2025-01-18T10:47:30.081455Z",
     "shell.execute_reply": "2025-01-18T10:47:30.080929Z"
    }
   },
   "outputs": [
    {
     "data": {
      "text/html": [
       "<div style=\"width:100%;\"><div style=\"position:relative;width:100%;height:0;padding-bottom:60%;\"><span style=\"color:#565656\">Make this Notebook Trusted to load map: File -> Trust Notebook</span><iframe srcdoc=\"&lt;!DOCTYPE html&gt;\n",
       "&lt;html&gt;\n",
       "&lt;head&gt;\n",
       "    \n",
       "    &lt;meta http-equiv=&quot;content-type&quot; content=&quot;text/html; charset=UTF-8&quot; /&gt;\n",
       "    \n",
       "        &lt;script&gt;\n",
       "            L_NO_TOUCH = false;\n",
       "            L_DISABLE_3D = false;\n",
       "        &lt;/script&gt;\n",
       "    \n",
       "    &lt;style&gt;html, body {width: 100%;height: 100%;margin: 0;padding: 0;}&lt;/style&gt;\n",
       "    &lt;style&gt;#map {position:absolute;top:0;bottom:0;right:0;left:0;}&lt;/style&gt;\n",
       "    &lt;script src=&quot;https://cdn.jsdelivr.net/npm/leaflet@1.9.3/dist/leaflet.js&quot;&gt;&lt;/script&gt;\n",
       "    &lt;script src=&quot;https://code.jquery.com/jquery-3.7.1.min.js&quot;&gt;&lt;/script&gt;\n",
       "    &lt;script src=&quot;https://cdn.jsdelivr.net/npm/bootstrap@5.2.2/dist/js/bootstrap.bundle.min.js&quot;&gt;&lt;/script&gt;\n",
       "    &lt;script src=&quot;https://cdnjs.cloudflare.com/ajax/libs/Leaflet.awesome-markers/2.0.2/leaflet.awesome-markers.js&quot;&gt;&lt;/script&gt;\n",
       "    &lt;link rel=&quot;stylesheet&quot; href=&quot;https://cdn.jsdelivr.net/npm/leaflet@1.9.3/dist/leaflet.css&quot;/&gt;\n",
       "    &lt;link rel=&quot;stylesheet&quot; href=&quot;https://cdn.jsdelivr.net/npm/bootstrap@5.2.2/dist/css/bootstrap.min.css&quot;/&gt;\n",
       "    &lt;link rel=&quot;stylesheet&quot; href=&quot;https://netdna.bootstrapcdn.com/bootstrap/3.0.0/css/bootstrap-glyphicons.css&quot;/&gt;\n",
       "    &lt;link rel=&quot;stylesheet&quot; href=&quot;https://cdn.jsdelivr.net/npm/@fortawesome/fontawesome-free@6.2.0/css/all.min.css&quot;/&gt;\n",
       "    &lt;link rel=&quot;stylesheet&quot; href=&quot;https://cdnjs.cloudflare.com/ajax/libs/Leaflet.awesome-markers/2.0.2/leaflet.awesome-markers.css&quot;/&gt;\n",
       "    &lt;link rel=&quot;stylesheet&quot; href=&quot;https://cdn.jsdelivr.net/gh/python-visualization/folium/folium/templates/leaflet.awesome.rotate.min.css&quot;/&gt;\n",
       "    \n",
       "            &lt;meta name=&quot;viewport&quot; content=&quot;width=device-width,\n",
       "                initial-scale=1.0, maximum-scale=1.0, user-scalable=no&quot; /&gt;\n",
       "            &lt;style&gt;\n",
       "                #map_5f6708ded6b5656239540118f2c494b2 {\n",
       "                    position: relative;\n",
       "                    width: 100.0%;\n",
       "                    height: 100.0%;\n",
       "                    left: 0.0%;\n",
       "                    top: 0.0%;\n",
       "                }\n",
       "                .leaflet-container { font-size: 1rem; }\n",
       "            &lt;/style&gt;\n",
       "        \n",
       "    &lt;script src=&quot;https://cdnjs.cloudflare.com/ajax/libs/jquery/3.7.1/jquery.min.js&quot;&gt;&lt;/script&gt;\n",
       "    &lt;script src=&quot;https://cdnjs.cloudflare.com/ajax/libs/jqueryui/1.10.2/jquery-ui.min.js&quot;&gt;&lt;/script&gt;\n",
       "    &lt;script src=&quot;https://cdn.jsdelivr.net/npm/iso8601-js-period@0.2.1/iso8601.min.js&quot;&gt;&lt;/script&gt;\n",
       "    &lt;script src=&quot;https://cdn.jsdelivr.net/npm/leaflet-timedimension@1.1.1/dist/leaflet.timedimension.min.js&quot;&gt;&lt;/script&gt;\n",
       "    &lt;link rel=&quot;stylesheet&quot; href=&quot;https://cdnjs.cloudflare.com/ajax/libs/highlight.js/8.4/styles/default.min.css&quot;/&gt;\n",
       "    &lt;link rel=&quot;stylesheet&quot; href=&quot;https://cdn.jsdelivr.net/npm/leaflet-timedimension@1.1.1/dist/leaflet.timedimension.control.css&quot;/&gt;\n",
       "&lt;/head&gt;\n",
       "&lt;body&gt;\n",
       "    \n",
       "    \n",
       "            &lt;div class=&quot;folium-map&quot; id=&quot;map_5f6708ded6b5656239540118f2c494b2&quot; &gt;&lt;/div&gt;\n",
       "        \n",
       "&lt;/body&gt;\n",
       "&lt;script&gt;\n",
       "    \n",
       "    \n",
       "            var map_5f6708ded6b5656239540118f2c494b2 = L.map(\n",
       "                &quot;map_5f6708ded6b5656239540118f2c494b2&quot;,\n",
       "                {\n",
       "                    center: [-40.0, -50.0],\n",
       "                    crs: L.CRS.EPSG3857,\n",
       "                    ...{\n",
       "  &quot;zoom&quot;: 5,\n",
       "  &quot;zoomControl&quot;: true,\n",
       "  &quot;preferCanvas&quot;: false,\n",
       "}\n",
       "\n",
       "                }\n",
       "            );\n",
       "\n",
       "            \n",
       "\n",
       "        \n",
       "    \n",
       "            var tile_layer_1847241a4d5a01b359a3427f195f8c94 = L.tileLayer(\n",
       "                &quot;https://tile.openstreetmap.org/{z}/{x}/{y}.png&quot;,\n",
       "                {\n",
       "  &quot;minZoom&quot;: 0,\n",
       "  &quot;maxZoom&quot;: 19,\n",
       "  &quot;maxNativeZoom&quot;: 19,\n",
       "  &quot;noWrap&quot;: false,\n",
       "  &quot;attribution&quot;: &quot;\\u0026copy; \\u003ca href=\\&quot;https://www.openstreetmap.org/copyright\\&quot;\\u003eOpenStreetMap\\u003c/a\\u003e contributors&quot;,\n",
       "  &quot;subdomains&quot;: &quot;abc&quot;,\n",
       "  &quot;detectRetina&quot;: false,\n",
       "  &quot;tms&quot;: false,\n",
       "  &quot;opacity&quot;: 1,\n",
       "}\n",
       "\n",
       "            );\n",
       "        \n",
       "    \n",
       "            tile_layer_1847241a4d5a01b359a3427f195f8c94.addTo(map_5f6708ded6b5656239540118f2c494b2);\n",
       "        \n",
       "    \n",
       "            var macro_element_d526ca36859f1dbb3273e7848136ce0f = L.tileLayer.wms(\n",
       "                &quot;https://pae-paha.pacioos.hawaii.edu/thredds/wms/dhw_5km?service=WMS&quot;,\n",
       "                {&quot;COLORSCALERANGE&quot;: &quot;1.2,28&quot;, &quot;attribution&quot;: &quot;&quot;, &quot;format&quot;: &quot;image/png&quot;, &quot;layers&quot;: &quot;CRW_SST&quot;, &quot;styles&quot;: &quot;boxfill/sst_36&quot;, &quot;transparent&quot;: true, &quot;version&quot;: &quot;1.1.1&quot;}\n",
       "            );\n",
       "        \n",
       "    \n",
       "            macro_element_d526ca36859f1dbb3273e7848136ce0f.addTo(map_5f6708ded6b5656239540118f2c494b2);\n",
       "        \n",
       "    \n",
       "            map_5f6708ded6b5656239540118f2c494b2.timeDimension = L.timeDimension(\n",
       "                {\n",
       "  &quot;period&quot;: &quot;PT1H&quot;,\n",
       "  &quot;timeInterval&quot;: &quot;2022-01-17T12:00:00.000Z/2025-01-16T12:00:00.000Z&quot;,\n",
       "}\n",
       "            );\n",
       "            map_5f6708ded6b5656239540118f2c494b2.timeDimensionControl =\n",
       "                L.control.timeDimension(\n",
       "                    {\n",
       "  &quot;position&quot;: &quot;bottomleft&quot;,\n",
       "  &quot;autoPlay&quot;: false,\n",
       "  &quot;playerOptions&quot;: {\n",
       "  &quot;transitionTime&quot;: 200,\n",
       "  &quot;loop&quot;: false,\n",
       "},\n",
       "}\n",
       "                );\n",
       "            map_5f6708ded6b5656239540118f2c494b2.addControl(\n",
       "                map_5f6708ded6b5656239540118f2c494b2.timeDimensionControl\n",
       "            );\n",
       "\n",
       "            \n",
       "            var macro_element_d526ca36859f1dbb3273e7848136ce0f = L.timeDimension.layer.wms(\n",
       "                macro_element_d526ca36859f1dbb3273e7848136ce0f,\n",
       "                {\n",
       "                    updateTimeDimension: false,\n",
       "                    wmsVersion: &quot;1.1.1&quot;,\n",
       "                }\n",
       "            ).addTo(map_5f6708ded6b5656239540118f2c494b2);\n",
       "            \n",
       "        \n",
       "    \n",
       "            var layer_control_63731f5cc2261eb269927933c12de69e_layers = {\n",
       "                base_layers : {\n",
       "                    &quot;openstreetmap&quot; : tile_layer_1847241a4d5a01b359a3427f195f8c94,\n",
       "                },\n",
       "                overlays :  {\n",
       "                    &quot;sea_surface_temperature&quot; : macro_element_d526ca36859f1dbb3273e7848136ce0f,\n",
       "                },\n",
       "            };\n",
       "            let layer_control_63731f5cc2261eb269927933c12de69e = L.control.layers(\n",
       "                layer_control_63731f5cc2261eb269927933c12de69e_layers.base_layers,\n",
       "                layer_control_63731f5cc2261eb269927933c12de69e_layers.overlays,\n",
       "                {\n",
       "  &quot;position&quot;: &quot;topright&quot;,\n",
       "  &quot;collapsed&quot;: true,\n",
       "  &quot;autoZIndex&quot;: true,\n",
       "}\n",
       "            ).addTo(map_5f6708ded6b5656239540118f2c494b2);\n",
       "\n",
       "        \n",
       "&lt;/script&gt;\n",
       "&lt;/html&gt;\" style=\"position:absolute;width:100%;height:100%;left:0;top:0;border:none !important;\" allowfullscreen webkitallowfullscreen mozallowfullscreen></iframe></div></div>"
      ],
      "text/plain": [
       "<folium.folium.Map at 0x7fcd98436150>"
      ]
     },
     "execution_count": 3,
     "metadata": {},
     "output_type": "execute_result"
    }
   ],
   "source": [
    "import folium\n",
    "import folium.plugins\n",
    "\n",
    "m = folium.Map(location=[-40, -50], zoom_start=5)\n",
    "\n",
    "wms_tile_layer = folium.WmsTileLayer(\n",
    "    url=url,\n",
    "    name=name,\n",
    "    styles=style,\n",
    "    fmt=\"image/png\",\n",
    "    transparent=True,\n",
    "    layers=layer,\n",
    "    overlay=True,\n",
    "    COLORSCALERANGE=\"1.2,28\",\n",
    ").add_to(m)\n",
    "\n",
    "folium.plugins.TimestampedWmsTileLayers(\n",
    "    wms_tile_layer,\n",
    "    period=\"PT1H\",\n",
    "    time_interval=time_interval,\n",
    ").add_to(m)\n",
    "\n",
    "folium.LayerControl().add_to(m)\n",
    "\n",
    "m"
   ]
  }
 ],
 "metadata": {
  "jupytext": {
   "text_representation": {
    "extension": ".mystnb",
    "format_name": "myst"
   }
  },
  "language_info": {
   "codemirror_mode": {
    "name": "ipython",
    "version": 3
   },
   "file_extension": ".py",
   "mimetype": "text/x-python",
   "name": "python",
   "nbconvert_exporter": "python",
   "pygments_lexer": "ipython3",
   "version": "3.12.8"
  }
 },
 "nbformat": 4,
 "nbformat_minor": 5
}
