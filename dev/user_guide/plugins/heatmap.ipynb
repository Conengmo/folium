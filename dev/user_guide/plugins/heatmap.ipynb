{
 "cells": [
  {
   "cell_type": "markdown",
   "id": "b04997cd",
   "metadata": {},
   "source": [
    "## Heatmap"
   ]
  },
  {
   "cell_type": "code",
   "execution_count": 1,
   "id": "a14dd498",
   "metadata": {
    "execution": {
     "iopub.execute_input": "2024-12-11T08:23:53.759862Z",
     "iopub.status.busy": "2024-12-11T08:23:53.759703Z",
     "iopub.status.idle": "2024-12-11T08:23:53.813501Z",
     "shell.execute_reply": "2024-12-11T08:23:53.813010Z"
    }
   },
   "outputs": [],
   "source": [
    "import numpy as np\n",
    "\n",
    "data = (\n",
    "    np.random.normal(size=(100, 3)) * np.array([[1, 1, 1]]) + np.array([[48, 5, 1]])\n",
    ").tolist()"
   ]
  },
  {
   "cell_type": "code",
   "execution_count": 2,
   "id": "2517d917",
   "metadata": {
    "execution": {
     "iopub.execute_input": "2024-12-11T08:23:53.816396Z",
     "iopub.status.busy": "2024-12-11T08:23:53.815677Z",
     "iopub.status.idle": "2024-12-11T08:23:54.261503Z",
     "shell.execute_reply": "2024-12-11T08:23:54.261007Z"
    }
   },
   "outputs": [
    {
     "data": {
      "text/html": [
       "<div style=\"width:100%;\"><div style=\"position:relative;width:100%;height:0;padding-bottom:60%;\"><span style=\"color:#565656\">Make this Notebook Trusted to load map: File -> Trust Notebook</span><iframe srcdoc=\"&lt;!DOCTYPE html&gt;\n",
       "&lt;html&gt;\n",
       "&lt;head&gt;\n",
       "    \n",
       "    &lt;meta http-equiv=&quot;content-type&quot; content=&quot;text/html; charset=UTF-8&quot; /&gt;\n",
       "    \n",
       "        &lt;script&gt;\n",
       "            L_NO_TOUCH = false;\n",
       "            L_DISABLE_3D = false;\n",
       "        &lt;/script&gt;\n",
       "    \n",
       "    &lt;style&gt;html, body {width: 100%;height: 100%;margin: 0;padding: 0;}&lt;/style&gt;\n",
       "    &lt;style&gt;#map {position:absolute;top:0;bottom:0;right:0;left:0;}&lt;/style&gt;\n",
       "    &lt;script src=&quot;https://cdn.jsdelivr.net/npm/leaflet@1.9.3/dist/leaflet.js&quot;&gt;&lt;/script&gt;\n",
       "    &lt;script src=&quot;https://code.jquery.com/jquery-3.7.1.min.js&quot;&gt;&lt;/script&gt;\n",
       "    &lt;script src=&quot;https://cdn.jsdelivr.net/npm/bootstrap@5.2.2/dist/js/bootstrap.bundle.min.js&quot;&gt;&lt;/script&gt;\n",
       "    &lt;script src=&quot;https://cdnjs.cloudflare.com/ajax/libs/Leaflet.awesome-markers/2.0.2/leaflet.awesome-markers.js&quot;&gt;&lt;/script&gt;\n",
       "    &lt;link rel=&quot;stylesheet&quot; href=&quot;https://cdn.jsdelivr.net/npm/leaflet@1.9.3/dist/leaflet.css&quot;/&gt;\n",
       "    &lt;link rel=&quot;stylesheet&quot; href=&quot;https://cdn.jsdelivr.net/npm/bootstrap@5.2.2/dist/css/bootstrap.min.css&quot;/&gt;\n",
       "    &lt;link rel=&quot;stylesheet&quot; href=&quot;https://netdna.bootstrapcdn.com/bootstrap/3.0.0/css/bootstrap-glyphicons.css&quot;/&gt;\n",
       "    &lt;link rel=&quot;stylesheet&quot; href=&quot;https://cdn.jsdelivr.net/npm/@fortawesome/fontawesome-free@6.2.0/css/all.min.css&quot;/&gt;\n",
       "    &lt;link rel=&quot;stylesheet&quot; href=&quot;https://cdnjs.cloudflare.com/ajax/libs/Leaflet.awesome-markers/2.0.2/leaflet.awesome-markers.css&quot;/&gt;\n",
       "    &lt;link rel=&quot;stylesheet&quot; href=&quot;https://cdn.jsdelivr.net/gh/python-visualization/folium/folium/templates/leaflet.awesome.rotate.min.css&quot;/&gt;\n",
       "    \n",
       "            &lt;meta name=&quot;viewport&quot; content=&quot;width=device-width,\n",
       "                initial-scale=1.0, maximum-scale=1.0, user-scalable=no&quot; /&gt;\n",
       "            &lt;style&gt;\n",
       "                #map_fe8b36ebe8960ec137d0b793e17a8bd1 {\n",
       "                    position: relative;\n",
       "                    width: 100.0%;\n",
       "                    height: 100.0%;\n",
       "                    left: 0.0%;\n",
       "                    top: 0.0%;\n",
       "                }\n",
       "                .leaflet-container { font-size: 1rem; }\n",
       "            &lt;/style&gt;\n",
       "        \n",
       "    &lt;script src=&quot;https://cdn.jsdelivr.net/gh/python-visualization/folium@main/folium/templates/leaflet_heat.min.js&quot;&gt;&lt;/script&gt;\n",
       "&lt;/head&gt;\n",
       "&lt;body&gt;\n",
       "    \n",
       "    \n",
       "            &lt;div class=&quot;folium-map&quot; id=&quot;map_fe8b36ebe8960ec137d0b793e17a8bd1&quot; &gt;&lt;/div&gt;\n",
       "        \n",
       "&lt;/body&gt;\n",
       "&lt;script&gt;\n",
       "    \n",
       "    \n",
       "            var map_fe8b36ebe8960ec137d0b793e17a8bd1 = L.map(\n",
       "                &quot;map_fe8b36ebe8960ec137d0b793e17a8bd1&quot;,\n",
       "                {\n",
       "                    center: [48.0, 5.0],\n",
       "                    crs: L.CRS.EPSG3857,\n",
       "                    ...{\n",
       "  &quot;maxBounds&quot;: null,\n",
       "  &quot;zoom&quot;: 6,\n",
       "  &quot;zoomControl&quot;: true,\n",
       "  &quot;preferCanvas&quot;: false,\n",
       "}\n",
       "\n",
       "                }\n",
       "            );\n",
       "\n",
       "            \n",
       "\n",
       "        \n",
       "    \n",
       "            var tile_layer_af204611f5633eff3dfba8f3930764cc = L.tileLayer(\n",
       "                &quot;https://tile.openstreetmap.org/{z}/{x}/{y}.png&quot;,\n",
       "                {\n",
       "  &quot;minZoom&quot;: 0,\n",
       "  &quot;maxZoom&quot;: 19,\n",
       "  &quot;maxNativeZoom&quot;: 19,\n",
       "  &quot;noWrap&quot;: false,\n",
       "  &quot;attribution&quot;: &quot;\\u0026copy; \\u003ca href=\\&quot;https://www.openstreetmap.org/copyright\\&quot;\\u003eOpenStreetMap\\u003c/a\\u003e contributors&quot;,\n",
       "  &quot;subdomains&quot;: &quot;abc&quot;,\n",
       "  &quot;detectRetina&quot;: false,\n",
       "  &quot;tms&quot;: false,\n",
       "  &quot;opacity&quot;: 1,\n",
       "}\n",
       "\n",
       "            );\n",
       "        \n",
       "    \n",
       "            tile_layer_af204611f5633eff3dfba8f3930764cc.addTo(map_fe8b36ebe8960ec137d0b793e17a8bd1);\n",
       "        \n",
       "    \n",
       "            var heat_map_cdd3a06e33017b9caf909047e2da1717 = L.heatLayer(\n",
       "                [[46.81451032020733, 4.776654204073658, 0.4322972717847118], [48.122234646053286, 5.404259063637984, 0.6295205605992293], [47.93984149299786, 6.80957186167764, 2.2250620047469383], [48.073166920789866, 4.5893179134795945, -0.1255149024347597], [46.46563824689015, 4.502790958937153, -0.04268465605414695], [47.90355622965914, 5.963592906321233, 0.4920991067656514], [47.11263748690253, 4.412901611303122, -1.055631980783613], [48.28969387903257, 6.186994976100421, -1.345404030080108], [48.12052375022212, 4.540521780288485, -0.4772291512199953], [46.86288489058838, 5.203792368245668, 1.9216032626930244], [48.087013751100656, 4.659863166920477, 0.0599442982007915], [47.74859464972341, 4.615128581253325, 0.8613991288961853], [47.9770884552358, 4.828880069586618, 0.6026614638196637], [47.68486118820287, 4.860338908859216, 0.9379525968144304], [46.63174888631908, 4.977138532073444, 1.1324611514877283], [48.03266670809479, 5.907778117711764, 0.3719280985368061], [48.047500421024445, 5.642553916301543, 1.0550731124785404], [47.971046464029584, 3.7192724772057444, 0.07161842127554674], [46.94723763919437, 5.88391449714315, 1.5610422108591198], [49.13963952016524, 6.887057790357513, -0.5801548291145495], [47.53301459229348, 3.145396755833957, 1.748158515984577], [47.960230438038366, 5.284101544322031, -1.1112626311153098], [49.04272040691112, 3.0242309796878137, 1.711596404772205], [50.30609567298366, 3.6790704100660117, 2.689964325206154], [48.42679601176124, 5.0801637298126145, 2.44989069693376], [47.12193280199259, 3.4337043262274056, 2.741724639836196], [48.271852568875445, 6.565766024156677, 1.1194187200572256], [47.46495075367594, 7.360972338094971, 0.9832319856752298], [48.930589958256164, 3.4052374380921178, 1.3809272509309376], [48.839490824092316, 5.959673700236594, -1.0129341000395753], [46.31907435100135, 5.296666864951982, -0.3540692044958742], [46.74228238151903, 4.555792479523991, 1.0076446586683099], [47.82175886638302, 5.01491844328089, 0.8906478118198278], [47.292003351329825, 5.959774791277211, 1.0372542885138667], [47.26172321667107, 4.567982940956384, 1.4141506682206773], [48.48551770152761, 5.959774748327664, 0.6272554468801902], [49.330955296106005, 5.275568281754569, -0.2805893187275301], [47.890397325087, 3.236887429669313, 0.8476608737989915], [46.31988113283894, 4.40894091174853, -1.0085168750907454], [48.635193151766885, 4.469185919460761, 0.7719752701590203], [49.32725262888766, 5.165188384694315, -0.11659892740213373], [47.913520952606795, 4.76832019799205, 0.4405154873436329], [47.11639569548714, 4.648514500416227, 0.7189910222317689], [48.38896950180319, 6.240464659953853, 2.7554949434483005], [46.918247521746444, 6.236645372019004, 1.3854174508671953], [47.922763600669605, 4.502333748923886, -0.6200157738940739], [48.36763860216503, 3.8941935758155712, -0.005527323288575525], [49.463401851859125, 4.443519618370145, 1.7351370251040832], [48.15116949022435, 5.8750342387963235, 0.9457387241140965], [47.624635770130446, 5.914384675018907, 0.6685039954263583], [46.32372582775671, 6.185050222384605, 0.32431482319614646], [47.24079208707057, 6.185599651540089, 0.0456022584265624], [49.16897895737563, 4.233065886359123, 1.9385806662847709], [48.7078389149874, 4.29244298912204, 2.4893272508636235], [49.07906259837264, 4.633606577868594, 2.900847507646262], [48.68460806324125, 5.268272758770858, 1.5532170201627489], [49.00514534382276, 6.45626783858737, 1.6909284965980602], [47.474000411391025, 4.321254031661895, 2.278621865377667], [48.73575302688683, 4.01994524316058, 0.2874391900622135], [48.770175453043585, 5.7818957265635635, 0.6723937985091846], [49.509202124253086, 5.5237429610596465, 0.3072957205765797], [47.57701883637825, 5.044301373575616, 1.6572062492127893], [48.8744736955333, 4.03458507356671, -0.5091306919936147], [51.164736314928305, 3.618202915168606, 0.009626866831336955], [48.52437825568833, 5.705542041533171, -0.5376740549336068], [48.017579322855454, 5.158929806955973, 1.7687844161916417], [48.235072570831, 4.8175228641163255, 2.366911783335257], [50.1464015069918, 4.632289406519258, 1.4680931732306723], [47.17003270424647, 6.048086365226837, 1.2740711317854077], [47.637771031631964, 5.109303522774053, -0.45975480096368093], [48.40349635154286, 5.027784593833441, 1.7233777332116276], [46.839300014870226, 3.5844143509990354, 0.6089617704009778], [46.896689138176995, 6.607602880075004, 0.06705797750814713], [49.33849657472283, 6.376855908563649, 1.83421291475485], [48.28407325018589, 5.82666242640767, 0.8725136383924992], [48.350918947238156, 5.742001762413156, 0.5672613925661794], [49.33073499528871, 3.183557378506827, 1.5323067184620642], [49.177539610001325, 3.5125778686261597, 1.759140865431748], [48.545307873137, 5.556033078788508, -0.8207125354861495], [49.382806836520395, 3.60328594112496, 2.050611262110393], [48.74337363436594, 5.00985506267274, 2.9437961906734307], [47.02184146843124, 5.87194057281045, 2.3347298834284236], [47.847678751774815, 5.031913621026072, -0.281326274869494], [51.96909157714239, 6.5777443077066575, 0.7622753630934433], [46.47277991183771, 4.283991598942168, 0.36245479236570577], [48.90327779800636, 3.958950965607328, 1.3270448323451045], [51.941707005980156, 3.5175543888129326, 1.270242242142976], [47.0462459018587, 4.864005877779359, 1.1080823015670997], [48.482750010727756, 4.8056414168318415, 1.535666025467441], [48.01904161341284, 4.281021383883239, 1.5247836176890663], [47.5526405187445, 3.3532887998613887, 1.4946050778621744], [47.683542513813165, 6.001729881912151, 0.7629817152535433], [48.44213194646789, 4.2155474644071855, 2.546238344446585], [46.20487437002387, 6.297086114969097, 0.8344961861561051], [47.958690693107606, 4.883886865496401, 1.2097133018435327], [48.3350826989556, 4.579481634528839, 0.8897721963324665], [46.69528987364059, 2.9429015680521933, 0.02084302599807808], [48.76571412721691, 5.653535163502948, 1.5006348176070525], [48.66380033159676, 3.8198239303722152, 0.8845104574384709], [48.3088334561875, 4.855279024830632, 0.48350303948611606]],\n",
       "                {\n",
       "  &quot;minOpacity&quot;: 0.5,\n",
       "  &quot;maxZoom&quot;: 18,\n",
       "  &quot;radius&quot;: 25,\n",
       "  &quot;blur&quot;: 15,\n",
       "  &quot;gradient&quot;: null,\n",
       "}\n",
       "            );\n",
       "        \n",
       "    \n",
       "            heat_map_cdd3a06e33017b9caf909047e2da1717.addTo(map_fe8b36ebe8960ec137d0b793e17a8bd1);\n",
       "        \n",
       "&lt;/script&gt;\n",
       "&lt;/html&gt;\" style=\"position:absolute;width:100%;height:100%;left:0;top:0;border:none !important;\" allowfullscreen webkitallowfullscreen mozallowfullscreen></iframe></div></div>"
      ],
      "text/plain": [
       "<folium.folium.Map at 0x7f3a0483fda0>"
      ]
     },
     "execution_count": 2,
     "metadata": {},
     "output_type": "execute_result"
    }
   ],
   "source": [
    "import folium\n",
    "from folium.plugins import HeatMap\n",
    "\n",
    "m = folium.Map([48.0, 5.0], zoom_start=6)\n",
    "\n",
    "HeatMap(data).add_to(m)\n",
    "\n",
    "m"
   ]
  }
 ],
 "metadata": {
  "jupytext": {
   "text_representation": {
    "extension": ".mystnb",
    "format_name": "myst"
   }
  },
  "language_info": {
   "codemirror_mode": {
    "name": "ipython",
    "version": 3
   },
   "file_extension": ".py",
   "mimetype": "text/x-python",
   "name": "python",
   "nbconvert_exporter": "python",
   "pygments_lexer": "ipython3",
   "version": "3.12.8"
  }
 },
 "nbformat": 4,
 "nbformat_minor": 5
}
