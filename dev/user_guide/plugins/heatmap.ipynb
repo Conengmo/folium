{
 "cells": [
  {
   "cell_type": "markdown",
   "id": "8593317d",
   "metadata": {},
   "source": [
    "## Heatmap"
   ]
  },
  {
   "cell_type": "code",
   "execution_count": 1,
   "id": "fbed9a05",
   "metadata": {
    "execution": {
     "iopub.execute_input": "2024-11-26T08:41:59.830888Z",
     "iopub.status.busy": "2024-11-26T08:41:59.830720Z",
     "iopub.status.idle": "2024-11-26T08:41:59.884556Z",
     "shell.execute_reply": "2024-11-26T08:41:59.884069Z"
    }
   },
   "outputs": [],
   "source": [
    "import numpy as np\n",
    "\n",
    "data = (\n",
    "    np.random.normal(size=(100, 3)) * np.array([[1, 1, 1]]) + np.array([[48, 5, 1]])\n",
    ").tolist()"
   ]
  },
  {
   "cell_type": "code",
   "execution_count": 2,
   "id": "ffaa5d06",
   "metadata": {
    "execution": {
     "iopub.execute_input": "2024-11-26T08:41:59.887571Z",
     "iopub.status.busy": "2024-11-26T08:41:59.886849Z",
     "iopub.status.idle": "2024-11-26T08:42:00.335951Z",
     "shell.execute_reply": "2024-11-26T08:42:00.335413Z"
    }
   },
   "outputs": [
    {
     "data": {
      "text/html": [
       "<div style=\"width:100%;\"><div style=\"position:relative;width:100%;height:0;padding-bottom:60%;\"><span style=\"color:#565656\">Make this Notebook Trusted to load map: File -> Trust Notebook</span><iframe srcdoc=\"&lt;!DOCTYPE html&gt;\n",
       "&lt;html&gt;\n",
       "&lt;head&gt;\n",
       "    \n",
       "    &lt;meta http-equiv=&quot;content-type&quot; content=&quot;text/html; charset=UTF-8&quot; /&gt;\n",
       "    \n",
       "        &lt;script&gt;\n",
       "            L_NO_TOUCH = false;\n",
       "            L_DISABLE_3D = false;\n",
       "        &lt;/script&gt;\n",
       "    \n",
       "    &lt;style&gt;html, body {width: 100%;height: 100%;margin: 0;padding: 0;}&lt;/style&gt;\n",
       "    &lt;style&gt;#map {position:absolute;top:0;bottom:0;right:0;left:0;}&lt;/style&gt;\n",
       "    &lt;script src=&quot;https://cdn.jsdelivr.net/npm/leaflet@1.9.3/dist/leaflet.js&quot;&gt;&lt;/script&gt;\n",
       "    &lt;script src=&quot;https://code.jquery.com/jquery-3.7.1.min.js&quot;&gt;&lt;/script&gt;\n",
       "    &lt;script src=&quot;https://cdn.jsdelivr.net/npm/bootstrap@5.2.2/dist/js/bootstrap.bundle.min.js&quot;&gt;&lt;/script&gt;\n",
       "    &lt;script src=&quot;https://cdnjs.cloudflare.com/ajax/libs/Leaflet.awesome-markers/2.0.2/leaflet.awesome-markers.js&quot;&gt;&lt;/script&gt;\n",
       "    &lt;link rel=&quot;stylesheet&quot; href=&quot;https://cdn.jsdelivr.net/npm/leaflet@1.9.3/dist/leaflet.css&quot;/&gt;\n",
       "    &lt;link rel=&quot;stylesheet&quot; href=&quot;https://cdn.jsdelivr.net/npm/bootstrap@5.2.2/dist/css/bootstrap.min.css&quot;/&gt;\n",
       "    &lt;link rel=&quot;stylesheet&quot; href=&quot;https://netdna.bootstrapcdn.com/bootstrap/3.0.0/css/bootstrap-glyphicons.css&quot;/&gt;\n",
       "    &lt;link rel=&quot;stylesheet&quot; href=&quot;https://cdn.jsdelivr.net/npm/@fortawesome/fontawesome-free@6.2.0/css/all.min.css&quot;/&gt;\n",
       "    &lt;link rel=&quot;stylesheet&quot; href=&quot;https://cdnjs.cloudflare.com/ajax/libs/Leaflet.awesome-markers/2.0.2/leaflet.awesome-markers.css&quot;/&gt;\n",
       "    &lt;link rel=&quot;stylesheet&quot; href=&quot;https://cdn.jsdelivr.net/gh/python-visualization/folium/folium/templates/leaflet.awesome.rotate.min.css&quot;/&gt;\n",
       "    \n",
       "            &lt;meta name=&quot;viewport&quot; content=&quot;width=device-width,\n",
       "                initial-scale=1.0, maximum-scale=1.0, user-scalable=no&quot; /&gt;\n",
       "            &lt;style&gt;\n",
       "                #map_df3ddefdafa4918cc8247eb55d0a6e9d {\n",
       "                    position: relative;\n",
       "                    width: 100.0%;\n",
       "                    height: 100.0%;\n",
       "                    left: 0.0%;\n",
       "                    top: 0.0%;\n",
       "                }\n",
       "                .leaflet-container { font-size: 1rem; }\n",
       "            &lt;/style&gt;\n",
       "        \n",
       "    &lt;script src=&quot;https://cdn.jsdelivr.net/gh/python-visualization/folium@main/folium/templates/leaflet_heat.min.js&quot;&gt;&lt;/script&gt;\n",
       "&lt;/head&gt;\n",
       "&lt;body&gt;\n",
       "    \n",
       "    \n",
       "            &lt;div class=&quot;folium-map&quot; id=&quot;map_df3ddefdafa4918cc8247eb55d0a6e9d&quot; &gt;&lt;/div&gt;\n",
       "        \n",
       "&lt;/body&gt;\n",
       "&lt;script&gt;\n",
       "    \n",
       "    \n",
       "            var map_df3ddefdafa4918cc8247eb55d0a6e9d = L.map(\n",
       "                &quot;map_df3ddefdafa4918cc8247eb55d0a6e9d&quot;,\n",
       "                {\n",
       "                    center: [48.0, 5.0],\n",
       "                    crs: L.CRS.EPSG3857,\n",
       "                    ...{\n",
       "  &quot;maxBounds&quot;: null,\n",
       "  &quot;zoom&quot;: 6,\n",
       "  &quot;zoomControl&quot;: true,\n",
       "  &quot;preferCanvas&quot;: false,\n",
       "}\n",
       "\n",
       "                }\n",
       "            );\n",
       "\n",
       "            \n",
       "\n",
       "        \n",
       "    \n",
       "            var tile_layer_c7228ed6504d924c71ad3f975921b09e = L.tileLayer(\n",
       "                &quot;https://tile.openstreetmap.org/{z}/{x}/{y}.png&quot;,\n",
       "                {\n",
       "  &quot;minZoom&quot;: 0,\n",
       "  &quot;maxZoom&quot;: 19,\n",
       "  &quot;maxNativeZoom&quot;: 19,\n",
       "  &quot;noWrap&quot;: false,\n",
       "  &quot;attribution&quot;: &quot;\\u0026copy; \\u003ca href=\\&quot;https://www.openstreetmap.org/copyright\\&quot;\\u003eOpenStreetMap\\u003c/a\\u003e contributors&quot;,\n",
       "  &quot;subdomains&quot;: &quot;abc&quot;,\n",
       "  &quot;detectRetina&quot;: false,\n",
       "  &quot;tms&quot;: false,\n",
       "  &quot;opacity&quot;: 1,\n",
       "}\n",
       "\n",
       "            );\n",
       "        \n",
       "    \n",
       "            tile_layer_c7228ed6504d924c71ad3f975921b09e.addTo(map_df3ddefdafa4918cc8247eb55d0a6e9d);\n",
       "        \n",
       "    \n",
       "            var heat_map_ae37ab48593bf2ee570abf1a0b8d0115 = L.heatLayer(\n",
       "                [[46.7059789022421, 4.235767289275342, -0.04726378802867903], [48.73810642966217, 6.124572335045402, 1.332558375873922], [50.211711624675246, 2.9119572090405392, 0.4828504879525315], [47.89648854587892, 4.982102770509552, 1.2252758097236862], [49.1294359010843, 5.078018287051517, 0.2681789289343104], [47.83069348332944, 5.804709113043809, 0.9086060483039188], [47.033885765353, 4.275212878407558, 2.1807895160641664], [48.35395275403439, 3.8173531238367424, 0.4451316264466936], [47.3360141785685, 5.755315732082628, -1.5259337535833581], [49.9224029396646, 5.442969397548912, 1.9006402663968123], [48.90206008885799, 4.235564665847588, 0.5206323708289857], [49.32931640996371, 5.255883524764103, 1.6394953939946055], [47.19180188405061, 6.855272673345363, 1.7533017773952255], [48.9899722016279, 6.606291213089542, 0.36642166200387405], [46.8755501377857, 6.5175023914721955, 1.7727458038929882], [50.133740282620714, 5.398494823018977, 0.8507023365071175], [46.3502023456006, 4.839005147792127, -1.0821777646526058], [46.569317042410525, 4.961561879222088, 2.7540078572335465], [49.257907966407984, 5.198586635867531, -0.023802823613549462], [49.03486101201731, 3.869370007602126, 1.6233407674875622], [46.395883186698065, 4.938453978017243, 1.6122233769396348], [49.1966127166403, 3.539252862089675, 1.6345332661627348], [48.418699130375856, 6.282038183673984, 1.143867344240171], [50.41698160528126, 5.726393056529662, -0.03407554258352752], [46.70485900132441, 5.282706054640597, 1.0386279858203105], [47.729694826604025, 3.1717749811070606, 1.3829857667917813], [47.579254990477764, 6.100071124818536, 0.46751555077381646], [47.181019643795956, 4.630574254868862, 0.39563434596870295], [48.65537695998045, 4.134479994422935, 2.463885654146896], [48.254970377296935, 6.4051763646644755, 2.002992722834832], [48.3787587972255, 7.087327076401114, 2.2224674284240797], [48.61608098581065, 3.510157605020453, 0.5247135025609031], [46.73277295049767, 4.243390494101781, -0.3332330484007566], [47.74953025312675, 5.430825086101614, 1.434262606490776], [47.11688539176382, 5.2366816212016625, -0.40463698903154777], [48.05582917883644, 5.373512866791676, 0.1523118365276337], [49.82663400429135, 4.50486003946964, -0.18196406693760414], [47.19300053563927, 2.425750456380176, 0.59540730895311], [49.330768611503444, 6.464481241774413, 1.661094775494159], [48.94854828242082, 7.186709567916035, 0.8299373764513023], [48.966507955685024, 5.452804428514533, 0.13932780672824152], [48.54243563862663, 6.65994326783917, 0.4205282326966645], [48.8213925386477, 4.251587543010957, 2.1140958435557016], [48.4118715008863, 4.4304196168454295, 0.7039873991668483], [47.25341015370668, 6.232604260277331, 0.16595156597999783], [50.14887039577574, 6.030824533805232, -1.5231435590287195], [49.15811818673386, 5.861261404328576, 1.2037087306757046], [48.17789256099713, 5.87075617176144, 1.1439008155380577], [47.0612533102954, 4.2082938883292575, -0.7832238516593473], [48.00191168270935, 4.602707744064895, 1.4060253591210419], [47.965514959595524, 4.566185523315493, 0.5139048930711002], [47.54526652370472, 5.373320675344644, 4.6376693343677555], [46.65190017750159, 4.087643571813661, 0.9153729928723077], [47.92910274814515, 5.308874001496948, 0.01578306206752067], [47.797719180493914, 6.523181183607055, 0.9456066541300593], [47.43771767884914, 5.625078617394233, 2.195026769488331], [47.181965224817304, 5.696739834653537, 0.22687087213803825], [48.37746339914511, 4.8577976988811375, 1.203872573877001], [46.89267890946251, 3.2591923195979646, 2.249063133156927], [48.26330407917749, 4.614163378240265, -0.22779002827183392], [47.228363011496675, 5.257808602186574, 1.5399905591582574], [46.61559152514205, 5.202240894280635, 0.056044900816259235], [47.256897666977, 4.348293819465438, 1.617776427010829], [49.34560650888066, 5.308231679797154, 2.3873032856798084], [48.44363785404504, 5.68521598741376, 2.9030463899849357], [46.41409616340099, 5.785353455695228, 1.520846051038746], [46.65849331482692, 5.832321180877758, 1.9340430324978768], [47.83083233806311, 4.392965825185324, 2.5214000994790817], [45.942783582101086, 4.581278698564203, 0.6016289220510692], [48.401577419952474, 7.128939970564814, 0.7123892402994183], [48.32871988406709, 5.530632490867446, 1.7508645903470095], [46.46633294578102, 6.066357069072763, 2.3034207051369853], [47.76906264587087, 4.77297460347391, 1.6181012320530486], [48.22063404298301, 5.508889541021166, 1.5062665239054147], [47.09161027934946, 6.3481333840327, -1.0251074506489033], [47.20572179809388, 5.800528663841602, 1.371111723417544], [48.46915390040854, 4.7743027927048685, 1.2256284093870033], [49.00172745936098, 4.831593753250542, 1.4403395542832176], [48.5218643513221, 4.680316456201939, -0.38553295492242556], [48.455371691293436, 4.832985390349166, 0.9961963748888951], [49.290272512711404, 4.318012640306714, 0.6544302952429701], [49.32479029012838, 5.935273027823488, 1.3237456196526023], [48.340516786045434, 5.110923136344091, -0.23257553555416743], [47.98912577310038, 5.494508739240439, 0.5172664895959778], [47.770004318088795, 4.418727529300455, 1.058008465455251], [49.27357127717427, 4.327169078222386, 1.685613195711181], [48.27684396306594, 5.687981716460516, 2.757828372398558], [48.352118350006045, 4.130698340941768, -0.3958022465793105], [47.03370070247527, 3.796155162894557, -1.6950086686373322], [48.067584463177, 4.654272001163617, 0.04359613334537282], [49.55962224371682, 4.278599666574428, 2.1432598474596585], [47.458810562665164, 6.593030675995191, 0.2455440372549983], [47.67152877622071, 5.488820241751946, 2.371027257804633], [48.00728822664258, 3.0939112275226663, 1.5490338991803059], [47.46382153601143, 4.048430708410432, 1.4611588476822892], [45.99752302566229, 7.072805047007951, 1.639360603154339], [49.48773008222052, 4.548045887857192, 0.8986422673432545], [48.31996134567474, 4.550398153544421, -0.8741942097326909], [46.77626686800103, 3.646750159655409, 2.1609416633126273], [48.71075819859017, 4.550988680460372, 0.36925730068371365]],\n",
       "                {\n",
       "  &quot;minOpacity&quot;: 0.5,\n",
       "  &quot;maxZoom&quot;: 18,\n",
       "  &quot;radius&quot;: 25,\n",
       "  &quot;blur&quot;: 15,\n",
       "  &quot;gradient&quot;: null,\n",
       "}\n",
       "            );\n",
       "        \n",
       "    \n",
       "            heat_map_ae37ab48593bf2ee570abf1a0b8d0115.addTo(map_df3ddefdafa4918cc8247eb55d0a6e9d);\n",
       "        \n",
       "&lt;/script&gt;\n",
       "&lt;/html&gt;\" style=\"position:absolute;width:100%;height:100%;left:0;top:0;border:none !important;\" allowfullscreen webkitallowfullscreen mozallowfullscreen></iframe></div></div>"
      ],
      "text/plain": [
       "<folium.folium.Map at 0x7f9f3c176ba0>"
      ]
     },
     "execution_count": 2,
     "metadata": {},
     "output_type": "execute_result"
    }
   ],
   "source": [
    "import folium\n",
    "from folium.plugins import HeatMap\n",
    "\n",
    "m = folium.Map([48.0, 5.0], zoom_start=6)\n",
    "\n",
    "HeatMap(data).add_to(m)\n",
    "\n",
    "m"
   ]
  }
 ],
 "metadata": {
  "jupytext": {
   "text_representation": {
    "extension": ".mystnb",
    "format_name": "myst"
   }
  },
  "language_info": {
   "codemirror_mode": {
    "name": "ipython",
    "version": 3
   },
   "file_extension": ".py",
   "mimetype": "text/x-python",
   "name": "python",
   "nbconvert_exporter": "python",
   "pygments_lexer": "ipython3",
   "version": "3.12.7"
  }
 },
 "nbformat": 4,
 "nbformat_minor": 5
}
