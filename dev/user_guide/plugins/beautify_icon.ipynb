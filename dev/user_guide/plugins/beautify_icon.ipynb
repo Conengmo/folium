{
 "cells": [
  {
   "cell_type": "code",
   "execution_count": 1,
   "id": "c2b3c337",
   "metadata": {
    "execution": {
     "iopub.execute_input": "2024-10-23T11:44:17.166239Z",
     "iopub.status.busy": "2024-10-23T11:44:17.165864Z",
     "iopub.status.idle": "2024-10-23T11:44:17.647396Z",
     "shell.execute_reply": "2024-10-23T11:44:17.646905Z"
    },
    "nbsphinx": "hidden"
   },
   "outputs": [],
   "source": [
    "import folium\n",
    "import folium.plugins"
   ]
  },
  {
   "cell_type": "markdown",
   "id": "1561473e",
   "metadata": {},
   "source": [
    "## BeautifyIcon"
   ]
  },
  {
   "cell_type": "code",
   "execution_count": 2,
   "id": "3af3903c",
   "metadata": {
    "execution": {
     "iopub.execute_input": "2024-10-23T11:44:17.649709Z",
     "iopub.status.busy": "2024-10-23T11:44:17.649167Z",
     "iopub.status.idle": "2024-10-23T11:44:17.669371Z",
     "shell.execute_reply": "2024-10-23T11:44:17.668974Z"
    }
   },
   "outputs": [
    {
     "data": {
      "text/html": [
       "<div style=\"width:100%;\"><div style=\"position:relative;width:100%;height:0;padding-bottom:60%;\"><span style=\"color:#565656\">Make this Notebook Trusted to load map: File -> Trust Notebook</span><iframe srcdoc=\"&lt;!DOCTYPE html&gt;\n",
       "&lt;html&gt;\n",
       "&lt;head&gt;\n",
       "    \n",
       "    &lt;meta http-equiv=&quot;content-type&quot; content=&quot;text/html; charset=UTF-8&quot; /&gt;\n",
       "    \n",
       "        &lt;script&gt;\n",
       "            L_NO_TOUCH = false;\n",
       "            L_DISABLE_3D = false;\n",
       "        &lt;/script&gt;\n",
       "    \n",
       "    &lt;style&gt;html, body {width: 100%;height: 100%;margin: 0;padding: 0;}&lt;/style&gt;\n",
       "    &lt;style&gt;#map {position:absolute;top:0;bottom:0;right:0;left:0;}&lt;/style&gt;\n",
       "    &lt;script src=&quot;https://cdn.jsdelivr.net/npm/leaflet@1.9.3/dist/leaflet.js&quot;&gt;&lt;/script&gt;\n",
       "    &lt;script src=&quot;https://code.jquery.com/jquery-3.7.1.min.js&quot;&gt;&lt;/script&gt;\n",
       "    &lt;script src=&quot;https://cdn.jsdelivr.net/npm/bootstrap@5.2.2/dist/js/bootstrap.bundle.min.js&quot;&gt;&lt;/script&gt;\n",
       "    &lt;script src=&quot;https://cdnjs.cloudflare.com/ajax/libs/Leaflet.awesome-markers/2.0.2/leaflet.awesome-markers.js&quot;&gt;&lt;/script&gt;\n",
       "    &lt;link rel=&quot;stylesheet&quot; href=&quot;https://cdn.jsdelivr.net/npm/leaflet@1.9.3/dist/leaflet.css&quot;/&gt;\n",
       "    &lt;link rel=&quot;stylesheet&quot; href=&quot;https://cdn.jsdelivr.net/npm/bootstrap@5.2.2/dist/css/bootstrap.min.css&quot;/&gt;\n",
       "    &lt;link rel=&quot;stylesheet&quot; href=&quot;https://netdna.bootstrapcdn.com/bootstrap/3.0.0/css/bootstrap-glyphicons.css&quot;/&gt;\n",
       "    &lt;link rel=&quot;stylesheet&quot; href=&quot;https://cdn.jsdelivr.net/npm/@fortawesome/fontawesome-free@6.2.0/css/all.min.css&quot;/&gt;\n",
       "    &lt;link rel=&quot;stylesheet&quot; href=&quot;https://cdnjs.cloudflare.com/ajax/libs/Leaflet.awesome-markers/2.0.2/leaflet.awesome-markers.css&quot;/&gt;\n",
       "    &lt;link rel=&quot;stylesheet&quot; href=&quot;https://cdn.jsdelivr.net/gh/python-visualization/folium/folium/templates/leaflet.awesome.rotate.min.css&quot;/&gt;\n",
       "    \n",
       "            &lt;meta name=&quot;viewport&quot; content=&quot;width=device-width,\n",
       "                initial-scale=1.0, maximum-scale=1.0, user-scalable=no&quot; /&gt;\n",
       "            &lt;style&gt;\n",
       "                #map_5b40d67ec9792f25f2ed1ccfdeaca63a {\n",
       "                    position: relative;\n",
       "                    width: 100.0%;\n",
       "                    height: 100.0%;\n",
       "                    left: 0.0%;\n",
       "                    top: 0.0%;\n",
       "                }\n",
       "                .leaflet-container { font-size: 1rem; }\n",
       "            &lt;/style&gt;\n",
       "        \n",
       "    &lt;script src=&quot;https://cdn.jsdelivr.net/gh/marslan390/BeautifyMarker/leaflet-beautify-marker-icon.min.js&quot;&gt;&lt;/script&gt;\n",
       "    &lt;link rel=&quot;stylesheet&quot; href=&quot;https://cdn.jsdelivr.net/gh/marslan390/BeautifyMarker/leaflet-beautify-marker-icon.min.css&quot;/&gt;\n",
       "&lt;/head&gt;\n",
       "&lt;body&gt;\n",
       "    \n",
       "    \n",
       "            &lt;div class=&quot;folium-map&quot; id=&quot;map_5b40d67ec9792f25f2ed1ccfdeaca63a&quot; &gt;&lt;/div&gt;\n",
       "        \n",
       "&lt;/body&gt;\n",
       "&lt;script&gt;\n",
       "    \n",
       "    \n",
       "            var map_5b40d67ec9792f25f2ed1ccfdeaca63a = L.map(\n",
       "                &quot;map_5b40d67ec9792f25f2ed1ccfdeaca63a&quot;,\n",
       "                {\n",
       "                    center: [45.5, -122.0],\n",
       "                    crs: L.CRS.EPSG3857,\n",
       "                    zoom: 3,\n",
       "                    zoomControl: true,\n",
       "                    preferCanvas: false,\n",
       "                }\n",
       "            );\n",
       "\n",
       "            \n",
       "\n",
       "        \n",
       "    \n",
       "            var tile_layer_376f00783782c874e473dda305fc7616 = L.tileLayer(\n",
       "                &quot;https://tile.openstreetmap.org/{z}/{x}/{y}.png&quot;,\n",
       "                {&quot;attribution&quot;: &quot;\\u0026copy; \\u003ca href=\\&quot;https://www.openstreetmap.org/copyright\\&quot;\\u003eOpenStreetMap\\u003c/a\\u003e contributors&quot;, &quot;detectRetina&quot;: false, &quot;maxNativeZoom&quot;: 19, &quot;maxZoom&quot;: 19, &quot;minZoom&quot;: 0, &quot;noWrap&quot;: false, &quot;opacity&quot;: 1, &quot;subdomains&quot;: &quot;abc&quot;, &quot;tms&quot;: false}\n",
       "            );\n",
       "        \n",
       "    \n",
       "            tile_layer_376f00783782c874e473dda305fc7616.addTo(map_5b40d67ec9792f25f2ed1ccfdeaca63a);\n",
       "        \n",
       "    \n",
       "            var marker_b7d8aea5b7b75d3a3bbec1f1ace46117 = L.marker(\n",
       "                [46.0, -122.0],\n",
       "                {}\n",
       "            ).addTo(map_5b40d67ec9792f25f2ed1ccfdeaca63a);\n",
       "        \n",
       "    \n",
       "            var beautify_icon_0c1361042ae7b8fe6343d95db6fe2c7d = new L.BeautifyIcon.icon(\n",
       "                {&quot;backgroundColor&quot;: &quot;#FFF&quot;, &quot;borderColor&quot;: &quot;#b3334f&quot;, &quot;borderWidth&quot;: 3, &quot;icon&quot;: &quot;plane&quot;, &quot;iconShape&quot;: &quot;triangle&quot;, &quot;innerIconStyle&quot;: &quot;&quot;, &quot;isAlphaNumericIcon&quot;: false, &quot;spin&quot;: false, &quot;textColor&quot;: &quot;#b3334f&quot;}\n",
       "            )\n",
       "            marker_b7d8aea5b7b75d3a3bbec1f1ace46117.setIcon(beautify_icon_0c1361042ae7b8fe6343d95db6fe2c7d);\n",
       "        \n",
       "    \n",
       "        var popup_111314cc24d9cca951163e0090aa1fd7 = L.popup({&quot;maxWidth&quot;: &quot;100%&quot;});\n",
       "\n",
       "        \n",
       "            \n",
       "                var html_a19a46751bfb92118eabf40f4480c8d6 = $(`&lt;div id=&quot;html_a19a46751bfb92118eabf40f4480c8d6&quot; style=&quot;width: 100.0%; height: 100.0%;&quot;&gt;Portland, OR&lt;/div&gt;`)[0];\n",
       "                popup_111314cc24d9cca951163e0090aa1fd7.setContent(html_a19a46751bfb92118eabf40f4480c8d6);\n",
       "            \n",
       "        \n",
       "\n",
       "        marker_b7d8aea5b7b75d3a3bbec1f1ace46117.bindPopup(popup_111314cc24d9cca951163e0090aa1fd7)\n",
       "        ;\n",
       "\n",
       "        \n",
       "    \n",
       "    \n",
       "            var marker_9166aa608f290c7bb5dd4a8fe5fe9f38 = L.marker(\n",
       "                [50.0, -122.0],\n",
       "                {}\n",
       "            ).addTo(map_5b40d67ec9792f25f2ed1ccfdeaca63a);\n",
       "        \n",
       "    \n",
       "            var beautify_icon_c32a904abc91b5ffb80a4409266c65af = new L.BeautifyIcon.icon(\n",
       "                {&quot;backgroundColor&quot;: &quot;#FFF&quot;, &quot;borderColor&quot;: &quot;#00ABDC&quot;, &quot;borderWidth&quot;: 3, &quot;innerIconStyle&quot;: &quot;margin-top:0;&quot;, &quot;isAlphaNumericIcon&quot;: true, &quot;spin&quot;: false, &quot;text&quot;: 10, &quot;textColor&quot;: &quot;#00ABDC&quot;}\n",
       "            )\n",
       "            marker_9166aa608f290c7bb5dd4a8fe5fe9f38.setIcon(beautify_icon_c32a904abc91b5ffb80a4409266c65af);\n",
       "        \n",
       "    \n",
       "        var popup_eb4cd19cdabf78c4d45cc46b2ae770e9 = L.popup({&quot;maxWidth&quot;: &quot;100%&quot;});\n",
       "\n",
       "        \n",
       "            \n",
       "                var html_cde8186d4d3414a9a776f1a56173592d = $(`&lt;div id=&quot;html_cde8186d4d3414a9a776f1a56173592d&quot; style=&quot;width: 100.0%; height: 100.0%;&quot;&gt;Portland, OR&lt;/div&gt;`)[0];\n",
       "                popup_eb4cd19cdabf78c4d45cc46b2ae770e9.setContent(html_cde8186d4d3414a9a776f1a56173592d);\n",
       "            \n",
       "        \n",
       "\n",
       "        marker_9166aa608f290c7bb5dd4a8fe5fe9f38.bindPopup(popup_eb4cd19cdabf78c4d45cc46b2ae770e9)\n",
       "        ;\n",
       "\n",
       "        \n",
       "    \n",
       "&lt;/script&gt;\n",
       "&lt;/html&gt;\" style=\"position:absolute;width:100%;height:100%;left:0;top:0;border:none !important;\" allowfullscreen webkitallowfullscreen mozallowfullscreen></iframe></div></div>"
      ],
      "text/plain": [
       "<folium.folium.Map at 0x7fe810772690>"
      ]
     },
     "execution_count": 2,
     "metadata": {},
     "output_type": "execute_result"
    }
   ],
   "source": [
    "m = folium.Map([45.5, -122], zoom_start=3)\n",
    "\n",
    "icon_plane = folium.plugins.BeautifyIcon(\n",
    "    icon=\"plane\", border_color=\"#b3334f\", text_color=\"#b3334f\", icon_shape=\"triangle\"\n",
    ")\n",
    "\n",
    "icon_number = folium.plugins.BeautifyIcon(\n",
    "    border_color=\"#00ABDC\",\n",
    "    text_color=\"#00ABDC\",\n",
    "    number=10,\n",
    "    inner_icon_style=\"margin-top:0;\",\n",
    ")\n",
    "\n",
    "folium.Marker(location=[46, -122], popup=\"Portland, OR\", icon=icon_plane).add_to(m)\n",
    "\n",
    "folium.Marker(location=[50, -122], popup=\"Portland, OR\", icon=icon_number).add_to(m)\n",
    "\n",
    "m"
   ]
  }
 ],
 "metadata": {
  "jupytext": {
   "text_representation": {
    "extension": ".mystnb",
    "format_name": "myst"
   }
  },
  "language_info": {
   "codemirror_mode": {
    "name": "ipython",
    "version": 3
   },
   "file_extension": ".py",
   "mimetype": "text/x-python",
   "name": "python",
   "nbconvert_exporter": "python",
   "pygments_lexer": "ipython3",
   "version": "3.12.7"
  }
 },
 "nbformat": 4,
 "nbformat_minor": 5
}
