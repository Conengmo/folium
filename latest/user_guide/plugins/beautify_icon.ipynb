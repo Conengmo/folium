{
 "cells": [
  {
   "cell_type": "code",
   "execution_count": 1,
   "id": "7964d800",
   "metadata": {
    "execution": {
     "iopub.execute_input": "2024-06-14T15:08:08.416817Z",
     "iopub.status.busy": "2024-06-14T15:08:08.416649Z",
     "iopub.status.idle": "2024-06-14T15:08:08.904911Z",
     "shell.execute_reply": "2024-06-14T15:08:08.904402Z"
    },
    "nbsphinx": "hidden"
   },
   "outputs": [],
   "source": [
    "import folium\n",
    "import folium.plugins"
   ]
  },
  {
   "cell_type": "markdown",
   "id": "b508ab5d",
   "metadata": {},
   "source": [
    "## BeautifyIcon"
   ]
  },
  {
   "cell_type": "code",
   "execution_count": 2,
   "id": "399f3c50",
   "metadata": {
    "execution": {
     "iopub.execute_input": "2024-06-14T15:08:08.907233Z",
     "iopub.status.busy": "2024-06-14T15:08:08.906991Z",
     "iopub.status.idle": "2024-06-14T15:08:08.921535Z",
     "shell.execute_reply": "2024-06-14T15:08:08.921141Z"
    }
   },
   "outputs": [
    {
     "data": {
      "text/html": [
       "<div style=\"width:100%;\"><div style=\"position:relative;width:100%;height:0;padding-bottom:60%;\"><span style=\"color:#565656\">Make this Notebook Trusted to load map: File -> Trust Notebook</span><iframe srcdoc=\"&lt;!DOCTYPE html&gt;\n",
       "&lt;html&gt;\n",
       "&lt;head&gt;\n",
       "    \n",
       "    &lt;meta http-equiv=&quot;content-type&quot; content=&quot;text/html; charset=UTF-8&quot; /&gt;\n",
       "    \n",
       "        &lt;script&gt;\n",
       "            L_NO_TOUCH = false;\n",
       "            L_DISABLE_3D = false;\n",
       "        &lt;/script&gt;\n",
       "    \n",
       "    &lt;style&gt;html, body {width: 100%;height: 100%;margin: 0;padding: 0;}&lt;/style&gt;\n",
       "    &lt;style&gt;#map {position:absolute;top:0;bottom:0;right:0;left:0;}&lt;/style&gt;\n",
       "    &lt;script src=&quot;https://cdn.jsdelivr.net/npm/leaflet@1.9.3/dist/leaflet.js&quot;&gt;&lt;/script&gt;\n",
       "    &lt;script src=&quot;https://code.jquery.com/jquery-3.7.1.min.js&quot;&gt;&lt;/script&gt;\n",
       "    &lt;script src=&quot;https://cdn.jsdelivr.net/npm/bootstrap@5.2.2/dist/js/bootstrap.bundle.min.js&quot;&gt;&lt;/script&gt;\n",
       "    &lt;script src=&quot;https://cdnjs.cloudflare.com/ajax/libs/Leaflet.awesome-markers/2.0.2/leaflet.awesome-markers.js&quot;&gt;&lt;/script&gt;\n",
       "    &lt;link rel=&quot;stylesheet&quot; href=&quot;https://cdn.jsdelivr.net/npm/leaflet@1.9.3/dist/leaflet.css&quot;/&gt;\n",
       "    &lt;link rel=&quot;stylesheet&quot; href=&quot;https://cdn.jsdelivr.net/npm/bootstrap@5.2.2/dist/css/bootstrap.min.css&quot;/&gt;\n",
       "    &lt;link rel=&quot;stylesheet&quot; href=&quot;https://netdna.bootstrapcdn.com/bootstrap/3.0.0/css/bootstrap-glyphicons.css&quot;/&gt;\n",
       "    &lt;link rel=&quot;stylesheet&quot; href=&quot;https://cdn.jsdelivr.net/npm/@fortawesome/fontawesome-free@6.2.0/css/all.min.css&quot;/&gt;\n",
       "    &lt;link rel=&quot;stylesheet&quot; href=&quot;https://cdnjs.cloudflare.com/ajax/libs/Leaflet.awesome-markers/2.0.2/leaflet.awesome-markers.css&quot;/&gt;\n",
       "    &lt;link rel=&quot;stylesheet&quot; href=&quot;https://cdn.jsdelivr.net/gh/python-visualization/folium/folium/templates/leaflet.awesome.rotate.min.css&quot;/&gt;\n",
       "    \n",
       "            &lt;meta name=&quot;viewport&quot; content=&quot;width=device-width,\n",
       "                initial-scale=1.0, maximum-scale=1.0, user-scalable=no&quot; /&gt;\n",
       "            &lt;style&gt;\n",
       "                #map_b3460ce03f2e6ddfc565f4a9685260af {\n",
       "                    position: relative;\n",
       "                    width: 100.0%;\n",
       "                    height: 100.0%;\n",
       "                    left: 0.0%;\n",
       "                    top: 0.0%;\n",
       "                }\n",
       "                .leaflet-container { font-size: 1rem; }\n",
       "            &lt;/style&gt;\n",
       "        \n",
       "    &lt;script src=&quot;https://cdn.jsdelivr.net/gh/marslan390/BeautifyMarker/leaflet-beautify-marker-icon.min.js&quot;&gt;&lt;/script&gt;\n",
       "    &lt;link rel=&quot;stylesheet&quot; href=&quot;https://cdn.jsdelivr.net/gh/marslan390/BeautifyMarker/leaflet-beautify-marker-icon.min.css&quot;/&gt;\n",
       "&lt;/head&gt;\n",
       "&lt;body&gt;\n",
       "    \n",
       "    \n",
       "            &lt;div class=&quot;folium-map&quot; id=&quot;map_b3460ce03f2e6ddfc565f4a9685260af&quot; &gt;&lt;/div&gt;\n",
       "        \n",
       "&lt;/body&gt;\n",
       "&lt;script&gt;\n",
       "    \n",
       "    \n",
       "            var map_b3460ce03f2e6ddfc565f4a9685260af = L.map(\n",
       "                &quot;map_b3460ce03f2e6ddfc565f4a9685260af&quot;,\n",
       "                {\n",
       "                    center: [45.5, -122.0],\n",
       "                    crs: L.CRS.EPSG3857,\n",
       "                    zoom: 3,\n",
       "                    zoomControl: true,\n",
       "                    preferCanvas: false,\n",
       "                }\n",
       "            );\n",
       "\n",
       "            \n",
       "\n",
       "        \n",
       "    \n",
       "            var tile_layer_d1c909320d240ed4faea4cdcfc987de0 = L.tileLayer(\n",
       "                &quot;https://tile.openstreetmap.org/{z}/{x}/{y}.png&quot;,\n",
       "                {&quot;attribution&quot;: &quot;\\u0026copy; \\u003ca href=\\&quot;https://www.openstreetmap.org/copyright\\&quot;\\u003eOpenStreetMap\\u003c/a\\u003e contributors&quot;, &quot;detectRetina&quot;: false, &quot;maxNativeZoom&quot;: 19, &quot;maxZoom&quot;: 19, &quot;minZoom&quot;: 0, &quot;noWrap&quot;: false, &quot;opacity&quot;: 1, &quot;subdomains&quot;: &quot;abc&quot;, &quot;tms&quot;: false}\n",
       "            );\n",
       "        \n",
       "    \n",
       "            tile_layer_d1c909320d240ed4faea4cdcfc987de0.addTo(map_b3460ce03f2e6ddfc565f4a9685260af);\n",
       "        \n",
       "    \n",
       "            var marker_484fce6e0beb7e8f48ec50f95a8e4cb3 = L.marker(\n",
       "                [46.0, -122.0],\n",
       "                {}\n",
       "            ).addTo(map_b3460ce03f2e6ddfc565f4a9685260af);\n",
       "        \n",
       "    \n",
       "            var beautify_icon_80a13fd245dfc2ce219d27512232d2ab = new L.BeautifyIcon.icon(\n",
       "                {&quot;backgroundColor&quot;: &quot;#FFF&quot;, &quot;borderColor&quot;: &quot;#b3334f&quot;, &quot;borderWidth&quot;: 3, &quot;icon&quot;: &quot;plane&quot;, &quot;iconShape&quot;: &quot;triangle&quot;, &quot;innerIconStyle&quot;: &quot;&quot;, &quot;isAlphaNumericIcon&quot;: false, &quot;spin&quot;: false, &quot;textColor&quot;: &quot;#b3334f&quot;}\n",
       "            )\n",
       "            marker_484fce6e0beb7e8f48ec50f95a8e4cb3.setIcon(beautify_icon_80a13fd245dfc2ce219d27512232d2ab);\n",
       "        \n",
       "    \n",
       "        var popup_6932f9c25c1e3b601a38d9c244cb7bb3 = L.popup({&quot;maxWidth&quot;: &quot;100%&quot;});\n",
       "\n",
       "        \n",
       "            \n",
       "                var html_c3940f795a0379950e6952a58a0301ab = $(`&lt;div id=&quot;html_c3940f795a0379950e6952a58a0301ab&quot; style=&quot;width: 100.0%; height: 100.0%;&quot;&gt;Portland, OR&lt;/div&gt;`)[0];\n",
       "                popup_6932f9c25c1e3b601a38d9c244cb7bb3.setContent(html_c3940f795a0379950e6952a58a0301ab);\n",
       "            \n",
       "        \n",
       "\n",
       "        marker_484fce6e0beb7e8f48ec50f95a8e4cb3.bindPopup(popup_6932f9c25c1e3b601a38d9c244cb7bb3)\n",
       "        ;\n",
       "\n",
       "        \n",
       "    \n",
       "    \n",
       "            var marker_43a3a8122c767df85f80d364f7b2f057 = L.marker(\n",
       "                [50.0, -122.0],\n",
       "                {}\n",
       "            ).addTo(map_b3460ce03f2e6ddfc565f4a9685260af);\n",
       "        \n",
       "    \n",
       "            var beautify_icon_92a44adb8de3606078fd82cc1b1a3753 = new L.BeautifyIcon.icon(\n",
       "                {&quot;backgroundColor&quot;: &quot;#FFF&quot;, &quot;borderColor&quot;: &quot;#00ABDC&quot;, &quot;borderWidth&quot;: 3, &quot;innerIconStyle&quot;: &quot;margin-top:0;&quot;, &quot;isAlphaNumericIcon&quot;: true, &quot;spin&quot;: false, &quot;text&quot;: 10, &quot;textColor&quot;: &quot;#00ABDC&quot;}\n",
       "            )\n",
       "            marker_43a3a8122c767df85f80d364f7b2f057.setIcon(beautify_icon_92a44adb8de3606078fd82cc1b1a3753);\n",
       "        \n",
       "    \n",
       "        var popup_a43e7e376f5c469e40b858825055d2c3 = L.popup({&quot;maxWidth&quot;: &quot;100%&quot;});\n",
       "\n",
       "        \n",
       "            \n",
       "                var html_52c6349901ba8f8875795cecb59c2718 = $(`&lt;div id=&quot;html_52c6349901ba8f8875795cecb59c2718&quot; style=&quot;width: 100.0%; height: 100.0%;&quot;&gt;Portland, OR&lt;/div&gt;`)[0];\n",
       "                popup_a43e7e376f5c469e40b858825055d2c3.setContent(html_52c6349901ba8f8875795cecb59c2718);\n",
       "            \n",
       "        \n",
       "\n",
       "        marker_43a3a8122c767df85f80d364f7b2f057.bindPopup(popup_a43e7e376f5c469e40b858825055d2c3)\n",
       "        ;\n",
       "\n",
       "        \n",
       "    \n",
       "&lt;/script&gt;\n",
       "&lt;/html&gt;\" style=\"position:absolute;width:100%;height:100%;left:0;top:0;border:none !important;\" allowfullscreen webkitallowfullscreen mozallowfullscreen></iframe></div></div>"
      ],
      "text/plain": [
       "<folium.folium.Map at 0x7f3224d1aae0>"
      ]
     },
     "execution_count": 2,
     "metadata": {},
     "output_type": "execute_result"
    }
   ],
   "source": [
    "m = folium.Map([45.5, -122], zoom_start=3)\n",
    "\n",
    "icon_plane = folium.plugins.BeautifyIcon(\n",
    "    icon=\"plane\", border_color=\"#b3334f\", text_color=\"#b3334f\", icon_shape=\"triangle\"\n",
    ")\n",
    "\n",
    "icon_number = folium.plugins.BeautifyIcon(\n",
    "    border_color=\"#00ABDC\",\n",
    "    text_color=\"#00ABDC\",\n",
    "    number=10,\n",
    "    inner_icon_style=\"margin-top:0;\",\n",
    ")\n",
    "\n",
    "folium.Marker(location=[46, -122], popup=\"Portland, OR\", icon=icon_plane).add_to(m)\n",
    "\n",
    "folium.Marker(location=[50, -122], popup=\"Portland, OR\", icon=icon_number).add_to(m)\n",
    "\n",
    "m"
   ]
  }
 ],
 "metadata": {
  "jupytext": {
   "text_representation": {
    "extension": ".mystnb",
    "format_name": "myst"
   }
  },
  "language_info": {
   "codemirror_mode": {
    "name": "ipython",
    "version": 3
   },
   "file_extension": ".py",
   "mimetype": "text/x-python",
   "name": "python",
   "nbconvert_exporter": "python",
   "pygments_lexer": "ipython3",
   "version": "3.12.3"
  }
 },
 "nbformat": 4,
 "nbformat_minor": 5
}
