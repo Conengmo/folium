{
 "cells": [
  {
   "cell_type": "markdown",
   "id": "c1b1870e",
   "metadata": {},
   "source": [
    "## Heatmap"
   ]
  },
  {
   "cell_type": "code",
   "execution_count": 1,
   "id": "f9f0514e",
   "metadata": {
    "execution": {
     "iopub.execute_input": "2023-09-06T11:20:29.857690Z",
     "iopub.status.busy": "2023-09-06T11:20:29.857373Z",
     "iopub.status.idle": "2023-09-06T11:20:29.921028Z",
     "shell.execute_reply": "2023-09-06T11:20:29.920480Z"
    }
   },
   "outputs": [],
   "source": [
    "import numpy as np\n",
    "\n",
    "data = (\n",
    "    np.random.normal(size=(100, 3)) * np.array([[1, 1, 1]]) + np.array([[48, 5, 1]])\n",
    ").tolist()"
   ]
  },
  {
   "cell_type": "code",
   "execution_count": 2,
   "id": "e0882230",
   "metadata": {
    "execution": {
     "iopub.execute_input": "2023-09-06T11:20:29.925179Z",
     "iopub.status.busy": "2023-09-06T11:20:29.924184Z",
     "iopub.status.idle": "2023-09-06T11:20:30.391307Z",
     "shell.execute_reply": "2023-09-06T11:20:30.390693Z"
    }
   },
   "outputs": [
    {
     "data": {
      "text/html": [
       "<div style=\"width:100%;\"><div style=\"position:relative;width:100%;height:0;padding-bottom:60%;\"><span style=\"color:#565656\">Make this Notebook Trusted to load map: File -> Trust Notebook</span><iframe srcdoc=\"&lt;!DOCTYPE html&gt;\n",
       "&lt;html&gt;\n",
       "&lt;head&gt;\n",
       "    \n",
       "    &lt;meta http-equiv=&quot;content-type&quot; content=&quot;text/html; charset=UTF-8&quot; /&gt;\n",
       "    \n",
       "        &lt;script&gt;\n",
       "            L_NO_TOUCH = false;\n",
       "            L_DISABLE_3D = false;\n",
       "        &lt;/script&gt;\n",
       "    \n",
       "    &lt;style&gt;html, body {width: 100%;height: 100%;margin: 0;padding: 0;}&lt;/style&gt;\n",
       "    &lt;style&gt;#map {position:absolute;top:0;bottom:0;right:0;left:0;}&lt;/style&gt;\n",
       "    &lt;script src=&quot;https://cdn.jsdelivr.net/npm/leaflet@1.9.3/dist/leaflet.js&quot;&gt;&lt;/script&gt;\n",
       "    &lt;script src=&quot;https://code.jquery.com/jquery-1.12.4.min.js&quot;&gt;&lt;/script&gt;\n",
       "    &lt;script src=&quot;https://cdn.jsdelivr.net/npm/bootstrap@5.2.2/dist/js/bootstrap.bundle.min.js&quot;&gt;&lt;/script&gt;\n",
       "    &lt;script src=&quot;https://cdnjs.cloudflare.com/ajax/libs/Leaflet.awesome-markers/2.0.2/leaflet.awesome-markers.js&quot;&gt;&lt;/script&gt;\n",
       "    &lt;link rel=&quot;stylesheet&quot; href=&quot;https://cdn.jsdelivr.net/npm/leaflet@1.9.3/dist/leaflet.css&quot;/&gt;\n",
       "    &lt;link rel=&quot;stylesheet&quot; href=&quot;https://cdn.jsdelivr.net/npm/bootstrap@5.2.2/dist/css/bootstrap.min.css&quot;/&gt;\n",
       "    &lt;link rel=&quot;stylesheet&quot; href=&quot;https://netdna.bootstrapcdn.com/bootstrap/3.0.0/css/bootstrap.min.css&quot;/&gt;\n",
       "    &lt;link rel=&quot;stylesheet&quot; href=&quot;https://cdn.jsdelivr.net/npm/@fortawesome/fontawesome-free@6.2.0/css/all.min.css&quot;/&gt;\n",
       "    &lt;link rel=&quot;stylesheet&quot; href=&quot;https://cdnjs.cloudflare.com/ajax/libs/Leaflet.awesome-markers/2.0.2/leaflet.awesome-markers.css&quot;/&gt;\n",
       "    &lt;link rel=&quot;stylesheet&quot; href=&quot;https://cdn.jsdelivr.net/gh/python-visualization/folium/folium/templates/leaflet.awesome.rotate.min.css&quot;/&gt;\n",
       "    \n",
       "            &lt;meta name=&quot;viewport&quot; content=&quot;width=device-width,\n",
       "                initial-scale=1.0, maximum-scale=1.0, user-scalable=no&quot; /&gt;\n",
       "            &lt;style&gt;\n",
       "                #map_051cde0e9d5e80e93502020b79c1960c {\n",
       "                    position: relative;\n",
       "                    width: 100.0%;\n",
       "                    height: 100.0%;\n",
       "                    left: 0.0%;\n",
       "                    top: 0.0%;\n",
       "                }\n",
       "                .leaflet-container { font-size: 1rem; }\n",
       "            &lt;/style&gt;\n",
       "        \n",
       "    &lt;script src=&quot;https://cdn.jsdelivr.net/gh/python-visualization/folium@main/folium/templates/leaflet_heat.min.js&quot;&gt;&lt;/script&gt;\n",
       "&lt;/head&gt;\n",
       "&lt;body&gt;\n",
       "    \n",
       "    \n",
       "            &lt;div class=&quot;folium-map&quot; id=&quot;map_051cde0e9d5e80e93502020b79c1960c&quot; &gt;&lt;/div&gt;\n",
       "        \n",
       "&lt;/body&gt;\n",
       "&lt;script&gt;\n",
       "    \n",
       "    \n",
       "            var map_051cde0e9d5e80e93502020b79c1960c = L.map(\n",
       "                &quot;map_051cde0e9d5e80e93502020b79c1960c&quot;,\n",
       "                {\n",
       "                    center: [48.0, 5.0],\n",
       "                    crs: L.CRS.EPSG3857,\n",
       "                    zoom: 6,\n",
       "                    zoomControl: true,\n",
       "                    preferCanvas: false,\n",
       "                }\n",
       "            );\n",
       "\n",
       "            \n",
       "\n",
       "        \n",
       "    \n",
       "            var tile_layer_e749480ac084c8d4aa9a52ae2011c287 = L.tileLayer(\n",
       "                &quot;https://stamen-tiles-{s}.a.ssl.fastly.net/toner/{z}/{x}/{y}.png&quot;,\n",
       "                {&quot;attribution&quot;: &quot;Map tiles by \\u003ca target=\\&quot;_blank\\&quot; href=\\&quot;http://stamen.com\\&quot;\\u003eStamen Design\\u003c/a\\u003e, under \\u003ca target=\\&quot;_blank\\&quot; href=\\&quot;http://creativecommons.org/licenses/by/3.0\\&quot;\\u003eCC BY 3.0\\u003c/a\\u003e. Data by \\u0026copy; \\u003ca target=\\&quot;_blank\\&quot; href=\\&quot;http://openstreetmap.org\\&quot;\\u003eOpenStreetMap\\u003c/a\\u003e, under \\u003ca target=\\&quot;_blank\\&quot; href=\\&quot;http://www.openstreetmap.org/copyright\\&quot;\\u003eODbL\\u003c/a\\u003e.&quot;, &quot;detectRetina&quot;: false, &quot;maxNativeZoom&quot;: 18, &quot;maxZoom&quot;: 18, &quot;minZoom&quot;: 0, &quot;noWrap&quot;: false, &quot;opacity&quot;: 1, &quot;subdomains&quot;: &quot;abc&quot;, &quot;tms&quot;: false}\n",
       "            );\n",
       "        \n",
       "    \n",
       "                tile_layer_e749480ac084c8d4aa9a52ae2011c287.addTo(map_051cde0e9d5e80e93502020b79c1960c);\n",
       "    \n",
       "            var heat_map_71488d6ced1540dbf6c439d20f738126 = L.heatLayer(\n",
       "                [[48.356236598424054, 5.523426552041844, 0.2392664012409499], [47.09505093365627, 4.947557098563211, -0.6826205783306221], [47.464896544618355, 4.9706762779985025, 1.8747352304367118], [48.58731707763928, 3.3605570818817556, 1.784838512907167], [48.62313802928582, 4.734524483295532, 1.1048099633568829], [47.987145573747256, 5.0032047156189385, 0.8315204189613243], [48.007625021810895, 4.678741881685789, 0.9049520397241403], [47.37989419865324, 3.6467105216213604, 0.3668947002286783], [48.88364507509827, 4.272869854241166, -1.485598218730174], [48.535323424798406, 5.11111228089853, -0.7212305766363063], [48.40633516932443, 3.71846252265738, 0.6404237497292917], [48.33332724917223, 4.815459956245616, 1.4738646372317292], [47.65031398663267, 5.138790617650128, -0.5878033285249988], [48.765674449746314, 4.6747244664244105, 1.217740527788203], [47.572860808438136, 3.9277177477511245, 2.8665945238676303], [51.09186570073289, 4.962952890490391, 3.155937263070573], [50.78909044903778, 4.996896870366303, -0.39423299986528515], [48.38234195958353, 6.208236205022925, 0.33730106001661075], [47.52478653416408, 5.480142755533445, 0.48725216525846293], [47.75671943864999, 4.4976744632973515, 0.0014668852487592643], [47.02873147249269, 5.285623354009711, 2.3061598210250236], [47.45979262843115, 3.5017417947073044, 0.29099642752754884], [49.64610878825681, 5.958785307452745, 2.154466066221741], [48.25648357995331, 3.8886112445031564, 0.4532263073024726], [47.52335430982367, 3.9230653883353357, 0.14968783420676046], [49.11653451578794, 4.778966913720312, 0.6506623336179174], [47.03169149762809, 5.1557935042989325, 1.717437952769286], [49.77102190396228, 5.156044849437231, 0.783269944112072], [48.503460590324295, 6.499950473688971, 0.46272158366492766], [47.74362470062022, 3.647745167338206, -0.5901628618846082], [48.622906935926004, 3.8002908055915867, 2.8237546684506833], [47.122070730520974, 5.923494703277971, 0.8842923195353398], [49.362629639427574, 5.862865118052846, 0.04981594980872628], [48.75594782049402, 6.043775387127734, 1.6670288439932484], [48.437226372207206, 4.6410951534950025, 0.9193459666149686], [48.296058818470804, 5.119248156579859, 2.276220015197132], [48.20082832829451, 6.857008162705132, 0.8045567530582386], [48.184791259147026, 5.333731670229576, 3.1460029651290906], [47.18507001739742, 3.093322409433267, 0.8107471782577386], [47.84340276667226, 5.378499382573402, 1.6536085972026906], [47.823607043890604, 4.1513905461442775, 1.1757815830391227], [49.74803028497387, 5.224621654096525, -1.3579190308929654], [49.22910030981514, 4.023713778470795, 0.3415408947835833], [48.27874533496172, 4.883720436958967, 0.7918758162460742], [48.06944609535884, 4.148682746534415, -0.39619691172064186], [48.22474405510969, 5.28004651522592, 1.299068637603757], [47.08575884203317, 4.403815421076256, 0.5612907433595993], [47.72262527381771, 5.4279844962587855, 1.3828516344442723], [46.544531797139044, 4.355166244891825, 1.5613250329289152], [48.04384694680794, 3.8389548857460927, 0.47192936958935217], [47.043958763912705, 5.441804123642455, 0.806087744667362], [47.92681945228458, 2.2349996141187964, 0.8916315487174327], [49.88961336566797, 4.238588421627647, 1.0843693399274632], [48.55488532695822, 2.5751667577110835, 0.9559775363608818], [48.107054720547026, 4.387228104057328, 0.8510364525663104], [47.54960569407437, 5.314788015936556, -0.6464289654926962], [47.46603565431393, 3.2011991671739217, 0.6459907070666937], [50.528146188861626, 5.683000363643661, 0.601372794486104], [48.06679976718472, 3.8240813206579674, 1.3678236720435561], [46.67461927936522, 5.389691341827197, 0.9232323874678126], [48.84704914944462, 4.113311829083092, 0.13361233407805795], [47.285510263412405, 6.376987859832198, 1.2541241899424953], [48.300705384133884, 6.665780679885471, 0.913761746098674], [48.76935624985849, 4.854976609036182, 1.2459483213764664], [48.57555630301513, 4.810115678189916, 0.5493225123674579], [47.258434680840324, 4.3950854963114105, 1.095839978113067], [48.315784833424246, 6.629651671717293, 2.7453405018006953], [47.653263836245635, 3.690222712171898, 1.4642679610205505], [48.65225922499826, 4.502499564461521, 1.7557055291351935], [45.64927006891818, 6.259823905934825, 0.8241818035033363], [47.53032064795734, 3.89075655567652, 1.5953884370329323], [48.0031643267331, 5.2569006037918555, 1.647848324179392], [49.10469460874193, 3.585217286483001, 1.5627051626437902], [47.9316136814443, 3.9363631446608673, 1.3528838454602967], [47.042093398273046, 3.080394498768758, 1.9582122980094723], [49.35910952069095, 4.832632598191365, 2.1509494708771255], [47.383768891797864, 4.789119565341207, 2.2382836137224666], [48.74596500813318, 4.441694123332294, 1.3951239749386057], [48.614923406719356, 6.855487745702018, 1.089651246960164], [45.85141781033958, 3.8357159093337554, 0.37760083065572214], [48.24017382436713, 4.331913269473909, 1.5008440745256841], [47.746630335690774, 5.411824523574405, 1.9618440623320001], [47.43042010667645, 2.921541732579611, 1.3359202280519415], [48.2148754513946, 4.6889181862678395, 2.087184546045054], [45.32378873122012, 4.202706398107086, -0.2893940023540802], [46.68273607620296, 5.051385052676892, 0.787288532186026], [48.33674662261292, 4.597836446417195, 2.1042628781567654], [46.11309352555768, 4.473913271343931, 0.33058470955717123], [46.320184098492014, 4.969101900147296, 2.316781245688599], [48.489368311613646, 7.625412607782933, 0.10710323069078187], [48.18227034992731, 2.831246014804307, 2.025242379255097], [48.3916308039049, 5.520819385624715, -0.4396512870078486], [46.58660161292845, 4.813121495072515, 0.32280936829889406], [47.56290377224099, 4.150002999608331, 1.1304802323725538], [48.45376866567999, 5.277236668268882, 2.3162468696705245], [48.652094567851364, 5.796223841873896, 2.862045923121401], [47.3449334255053, 6.168613239862305, 1.5995066355156558], [47.918080978374995, 4.012187524448942, 0.8412761455610066], [46.407236647194466, 5.619164672133826, -0.26475832190113646], [49.00699896865124, 3.5083636759525825, -0.08272905910116801]],\n",
       "                {&quot;blur&quot;: 15, &quot;maxZoom&quot;: 18, &quot;minOpacity&quot;: 0.5, &quot;radius&quot;: 25}\n",
       "            );\n",
       "        \n",
       "    \n",
       "                heat_map_71488d6ced1540dbf6c439d20f738126.addTo(map_051cde0e9d5e80e93502020b79c1960c);\n",
       "&lt;/script&gt;\n",
       "&lt;/html&gt;\" style=\"position:absolute;width:100%;height:100%;left:0;top:0;border:none !important;\" allowfullscreen webkitallowfullscreen mozallowfullscreen></iframe></div></div>"
      ],
      "text/plain": [
       "<folium.folium.Map at 0x7f959cbc6e90>"
      ]
     },
     "execution_count": 2,
     "metadata": {},
     "output_type": "execute_result"
    }
   ],
   "source": [
    "import folium\n",
    "from folium.plugins import HeatMap\n",
    "\n",
    "m = folium.Map([48.0, 5.0], tiles=\"stamentoner\", zoom_start=6)\n",
    "\n",
    "HeatMap(data).add_to(m)\n",
    "\n",
    "m"
   ]
  }
 ],
 "metadata": {
  "jupytext": {
   "text_representation": {
    "extension": ".mystnb",
    "format_name": "myst"
   }
  },
  "language_info": {
   "codemirror_mode": {
    "name": "ipython",
    "version": 3
   },
   "file_extension": ".py",
   "mimetype": "text/x-python",
   "name": "python",
   "nbconvert_exporter": "python",
   "pygments_lexer": "ipython3",
   "version": "3.11.5"
  }
 },
 "nbformat": 4,
 "nbformat_minor": 5
}
