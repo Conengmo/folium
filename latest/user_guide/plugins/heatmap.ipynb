{
 "cells": [
  {
   "cell_type": "markdown",
   "id": "5a8b0708",
   "metadata": {},
   "source": [
    "## Heatmap"
   ]
  },
  {
   "cell_type": "code",
   "execution_count": 1,
   "id": "23603a58",
   "metadata": {
    "execution": {
     "iopub.execute_input": "2023-10-10T08:27:15.020342Z",
     "iopub.status.busy": "2023-10-10T08:27:15.019943Z",
     "iopub.status.idle": "2023-10-10T08:27:15.103326Z",
     "shell.execute_reply": "2023-10-10T08:27:15.102720Z"
    }
   },
   "outputs": [],
   "source": [
    "import numpy as np\n",
    "\n",
    "data = (\n",
    "    np.random.normal(size=(100, 3)) * np.array([[1, 1, 1]]) + np.array([[48, 5, 1]])\n",
    ").tolist()"
   ]
  },
  {
   "cell_type": "code",
   "execution_count": 2,
   "id": "a418c1bd",
   "metadata": {
    "execution": {
     "iopub.execute_input": "2023-10-10T08:27:15.106586Z",
     "iopub.status.busy": "2023-10-10T08:27:15.106069Z",
     "iopub.status.idle": "2023-10-10T08:27:15.672209Z",
     "shell.execute_reply": "2023-10-10T08:27:15.671543Z"
    }
   },
   "outputs": [
    {
     "data": {
      "text/html": [
       "<div style=\"width:100%;\"><div style=\"position:relative;width:100%;height:0;padding-bottom:60%;\"><span style=\"color:#565656\">Make this Notebook Trusted to load map: File -> Trust Notebook</span><iframe srcdoc=\"&lt;!DOCTYPE html&gt;\n",
       "&lt;html&gt;\n",
       "&lt;head&gt;\n",
       "    \n",
       "    &lt;meta http-equiv=&quot;content-type&quot; content=&quot;text/html; charset=UTF-8&quot; /&gt;\n",
       "    \n",
       "        &lt;script&gt;\n",
       "            L_NO_TOUCH = false;\n",
       "            L_DISABLE_3D = false;\n",
       "        &lt;/script&gt;\n",
       "    \n",
       "    &lt;style&gt;html, body {width: 100%;height: 100%;margin: 0;padding: 0;}&lt;/style&gt;\n",
       "    &lt;style&gt;#map {position:absolute;top:0;bottom:0;right:0;left:0;}&lt;/style&gt;\n",
       "    &lt;script src=&quot;https://cdn.jsdelivr.net/npm/leaflet@1.9.3/dist/leaflet.js&quot;&gt;&lt;/script&gt;\n",
       "    &lt;script src=&quot;https://code.jquery.com/jquery-1.12.4.min.js&quot;&gt;&lt;/script&gt;\n",
       "    &lt;script src=&quot;https://cdn.jsdelivr.net/npm/bootstrap@5.2.2/dist/js/bootstrap.bundle.min.js&quot;&gt;&lt;/script&gt;\n",
       "    &lt;script src=&quot;https://cdnjs.cloudflare.com/ajax/libs/Leaflet.awesome-markers/2.0.2/leaflet.awesome-markers.js&quot;&gt;&lt;/script&gt;\n",
       "    &lt;link rel=&quot;stylesheet&quot; href=&quot;https://cdn.jsdelivr.net/npm/leaflet@1.9.3/dist/leaflet.css&quot;/&gt;\n",
       "    &lt;link rel=&quot;stylesheet&quot; href=&quot;https://cdn.jsdelivr.net/npm/bootstrap@5.2.2/dist/css/bootstrap.min.css&quot;/&gt;\n",
       "    &lt;link rel=&quot;stylesheet&quot; href=&quot;https://netdna.bootstrapcdn.com/bootstrap/3.0.0/css/bootstrap.min.css&quot;/&gt;\n",
       "    &lt;link rel=&quot;stylesheet&quot; href=&quot;https://cdn.jsdelivr.net/npm/@fortawesome/fontawesome-free@6.2.0/css/all.min.css&quot;/&gt;\n",
       "    &lt;link rel=&quot;stylesheet&quot; href=&quot;https://cdnjs.cloudflare.com/ajax/libs/Leaflet.awesome-markers/2.0.2/leaflet.awesome-markers.css&quot;/&gt;\n",
       "    &lt;link rel=&quot;stylesheet&quot; href=&quot;https://cdn.jsdelivr.net/gh/python-visualization/folium/folium/templates/leaflet.awesome.rotate.min.css&quot;/&gt;\n",
       "    \n",
       "            &lt;meta name=&quot;viewport&quot; content=&quot;width=device-width,\n",
       "                initial-scale=1.0, maximum-scale=1.0, user-scalable=no&quot; /&gt;\n",
       "            &lt;style&gt;\n",
       "                #map_f53a8837e53b564aeccca7ca5d235277 {\n",
       "                    position: relative;\n",
       "                    width: 100.0%;\n",
       "                    height: 100.0%;\n",
       "                    left: 0.0%;\n",
       "                    top: 0.0%;\n",
       "                }\n",
       "                .leaflet-container { font-size: 1rem; }\n",
       "            &lt;/style&gt;\n",
       "        \n",
       "    &lt;script src=&quot;https://cdn.jsdelivr.net/gh/python-visualization/folium@main/folium/templates/leaflet_heat.min.js&quot;&gt;&lt;/script&gt;\n",
       "&lt;/head&gt;\n",
       "&lt;body&gt;\n",
       "    \n",
       "    \n",
       "            &lt;div class=&quot;folium-map&quot; id=&quot;map_f53a8837e53b564aeccca7ca5d235277&quot; &gt;&lt;/div&gt;\n",
       "        \n",
       "&lt;/body&gt;\n",
       "&lt;script&gt;\n",
       "    \n",
       "    \n",
       "            var map_f53a8837e53b564aeccca7ca5d235277 = L.map(\n",
       "                &quot;map_f53a8837e53b564aeccca7ca5d235277&quot;,\n",
       "                {\n",
       "                    center: [48.0, 5.0],\n",
       "                    crs: L.CRS.EPSG3857,\n",
       "                    zoom: 6,\n",
       "                    zoomControl: true,\n",
       "                    preferCanvas: false,\n",
       "                }\n",
       "            );\n",
       "\n",
       "            \n",
       "\n",
       "        \n",
       "    \n",
       "            var tile_layer_79cf30da7e8dbd61f0f865be83c77e1c = L.tileLayer(\n",
       "                &quot;https://stamen-tiles-{s}.a.ssl.fastly.net/toner/{z}/{x}/{y}.png&quot;,\n",
       "                {&quot;attribution&quot;: &quot;Map tiles by \\u003ca target=\\&quot;_blank\\&quot; href=\\&quot;http://stamen.com\\&quot;\\u003eStamen Design\\u003c/a\\u003e, under \\u003ca target=\\&quot;_blank\\&quot; href=\\&quot;http://creativecommons.org/licenses/by/3.0\\&quot;\\u003eCC BY 3.0\\u003c/a\\u003e. Data by \\u0026copy; \\u003ca target=\\&quot;_blank\\&quot; href=\\&quot;http://openstreetmap.org\\&quot;\\u003eOpenStreetMap\\u003c/a\\u003e, under \\u003ca target=\\&quot;_blank\\&quot; href=\\&quot;http://www.openstreetmap.org/copyright\\&quot;\\u003eODbL\\u003c/a\\u003e.&quot;, &quot;detectRetina&quot;: false, &quot;maxNativeZoom&quot;: 18, &quot;maxZoom&quot;: 18, &quot;minZoom&quot;: 0, &quot;noWrap&quot;: false, &quot;opacity&quot;: 1, &quot;subdomains&quot;: &quot;abc&quot;, &quot;tms&quot;: false}\n",
       "            );\n",
       "        \n",
       "    \n",
       "                tile_layer_79cf30da7e8dbd61f0f865be83c77e1c.addTo(map_f53a8837e53b564aeccca7ca5d235277);\n",
       "    \n",
       "            var heat_map_8d514a06d07560cced7f668964d1a929 = L.heatLayer(\n",
       "                [[47.38097456691849, 5.578300079844415, 0.05796185277298238], [48.28898286918963, 5.321137925260638, 0.7497839025345692], [48.281448564357405, 4.350531071711512, 0.6871468028343013], [49.5762348786172, 2.3399908223680423, 0.5599142402427304], [48.49140012790946, 3.3233358760629224, 0.8703972927958166], [47.19112309862591, 4.4776890681565025, 1.029561468970636], [47.4613022306809, 4.771398434725402, 0.5325759792858338], [47.75333471962298, 4.731190224024881, 0.3438138703323679], [49.40474804993301, 6.541162679318585, 1.6513848995229283], [48.82265780884098, 4.492985708173889, 1.8181826162916623], [47.33670144775815, 2.799090362337344, 2.1061034654489523], [48.43230953644937, 4.515920616002495, -0.5523846705428372], [49.52182395463924, 4.895222559030702, 1.648341278283898], [47.92941634184307, 3.709988650341818, 0.7411462737025469], [47.880755597456776, 4.3538971603945935, 1.2386757017023777], [47.80394656562311, 5.46585282997564, 1.0120899720669267], [47.58551554762594, 4.269622021047126, 1.264137605850485], [47.79866869978541, 3.753854242248634, -0.30952219725271335], [48.723998473316115, 4.5780989375178756, 0.9082097315944432], [47.673003773005966, 4.14548039843157, 1.5390083925254507], [47.91751820200064, 4.780707787839727, -0.5300057729615564], [47.249048665494115, 2.8561456166601857, -0.12314455570377203], [46.5193056273128, 4.919422142697239, -0.7810774589119438], [47.99088358217744, 5.412893379328175, 1.2615047280987541], [46.68486795386994, 5.635455895871746, 1.25517977780931], [50.96988473988875, 6.293716614740681, 1.7216464488514636], [47.50853534932817, 4.571851521250716, 2.0397804519179856], [47.95108152370177, 6.198673345568121, 0.5007402537753323], [48.21575075549136, 4.344569182664603, -2.029311430916761], [47.54822089051211, 4.614752902824674, 2.2468186859737656], [48.25771880217131, 3.7494602786156337, 3.5943676212250106], [45.656243486936326, 4.192694928349445, -1.0652674460749227], [47.25496138096245, 4.654607953089365, 0.9341153130054239], [47.06033321147201, 5.6706043305432665, 1.4511979925930665], [48.43787517091654, 6.041220589843704, 1.3319349480685718], [47.83631910402772, 5.527846292210699, 0.9489861351707037], [48.633254203374086, 5.3029144615702615, 3.3417439551567765], [48.406717667970625, 5.416653955145722, -0.42109968487320804], [47.41614896020078, 5.957185810650535, -0.235382527466641], [50.134631738144854, 4.55298981932893, 1.8325514048319236], [48.87827804656047, 3.814363210490373, 3.3295438953974426], [48.3609836542511, 6.708480016325143, 1.924287778966095], [46.89334039663889, 6.323310088528988, 1.9362024377203704], [50.47220470438794, 4.9728959548254625, 0.2355368860686542], [49.60615486243222, 4.122617583570635, 3.004729810784517], [50.171391033442376, 5.092686879874998, 3.0818280275481906], [48.697008526935484, 6.11260946815271, 0.6759633833410201], [48.02520632526038, 3.037730603074915, 1.6193570947612923], [47.77874679524405, 6.813871351606323, 0.5094161344563725], [47.69694047113844, 6.373576314379085, 1.0483480286731082], [47.920054109854185, 5.3861324089416955, 0.25515794672376224], [47.78836430691515, 4.868505295661473, -1.0064189982236336], [48.22977564580877, 4.964950685890371, 1.7601267057822994], [49.36842198972609, 6.407889481858514, 1.1283211705885219], [46.97010658909249, 6.677353547478155, 0.18853511493528885], [47.8046258697716, 5.5648962069624694, 0.49030851094028116], [48.737767659283065, 4.502954324462333, 0.10502571727793075], [46.07813620831265, 5.004562167878281, -0.4314917610236291], [48.68790280207673, 4.285248088077459, -0.33888329154582486], [47.46356820496124, 6.841078893236813, 1.7737653823861246], [47.472627727697265, 4.590183715441825, 2.580732113647633], [48.06063016426768, 5.0813756573527264, 2.0685306797670586], [47.92454562772183, 5.312692445799306, 1.1952238580667798], [48.24346296562649, 3.934304581323774, -0.548373868437467], [48.90805471089191, 5.074128126327031, 2.0494446052527815], [48.12670060871211, 6.0755150539377585, 0.8824774012242065], [47.391231351363146, 4.6780238529317, 0.9564474567587266], [48.529199521720415, 6.117751247134384, -1.4355426998117622], [47.603249631581306, 4.566361310413168, 1.1644024729453766], [48.26087787679389, 5.757947711544541, 0.23398532410078643], [48.78605685845334, 4.725372359406626, -0.8097320632061351], [48.13396642575936, 6.405721660761541, 1.429578052428879], [46.460445306432604, 4.531777033939032, 1.3134381490985687], [48.04630416712086, 5.819059796340415, -0.5990650525544128], [50.800591177373185, 5.128193171352886, 0.21958276577762414], [47.31009097912524, 4.567740169058684, 2.800654213700269], [46.53260259300745, 4.1227744196544345, 0.47628891972929244], [47.19679149353189, 5.222632020613323, 0.13923290114280407], [49.5922768791271, 5.34529789652462, 4.088361871129873], [48.5680927556877, 5.963212022221336, 0.6056575503785411], [48.4697150109326, 4.307177503554554, -0.720607683942289], [49.331158258089005, 5.582494096971374, 0.24548053144395698], [47.25641286329452, 4.916424435207854, 2.3027289460591533], [46.94494088213593, 6.759993824248475, 2.516715445704305], [48.03430714412284, 5.3399300436279775, 2.031411435007003], [47.249113171054546, 2.502740835051903, 0.7888607453117925], [46.78249410462446, 5.963466177465065, 0.7536091698960299], [48.290263694024304, 4.990766493411989, -0.34391025059508484], [46.511230774905755, 4.760156372211475, 0.16457465403649896], [47.84620335799257, 5.659762120748639, 0.6421655280686973], [48.224153738140195, 3.582312090582128, 1.314540717963323], [48.22981700849661, 3.2392002091889776, 1.3435071887612025], [47.22814931457428, 3.9190613430539782, -0.31116670096561605], [46.49512797161552, 4.503806896368991, 2.2789121963665675], [48.02356152484682, 5.570932318455922, 0.48209503410134524], [48.52110699245925, 4.557481444590054, 2.3542396572539115], [48.68514986236997, 5.7135807679675565, 1.16217028345011], [46.94531197423419, 5.674016563753488, 2.796696045550033], [47.943560467915646, 5.568327883757531, 0.7566716779806325], [47.17412403291645, 3.810927300155495, 2.7719862115108915]],\n",
       "                {&quot;blur&quot;: 15, &quot;maxZoom&quot;: 18, &quot;minOpacity&quot;: 0.5, &quot;radius&quot;: 25}\n",
       "            );\n",
       "        \n",
       "    \n",
       "                heat_map_8d514a06d07560cced7f668964d1a929.addTo(map_f53a8837e53b564aeccca7ca5d235277);\n",
       "&lt;/script&gt;\n",
       "&lt;/html&gt;\" style=\"position:absolute;width:100%;height:100%;left:0;top:0;border:none !important;\" allowfullscreen webkitallowfullscreen mozallowfullscreen></iframe></div></div>"
      ],
      "text/plain": [
       "<folium.folium.Map at 0x7fee3cdbfb90>"
      ]
     },
     "execution_count": 2,
     "metadata": {},
     "output_type": "execute_result"
    }
   ],
   "source": [
    "import folium\n",
    "from folium.plugins import HeatMap\n",
    "\n",
    "m = folium.Map([48.0, 5.0], tiles=\"stamentoner\", zoom_start=6)\n",
    "\n",
    "HeatMap(data).add_to(m)\n",
    "\n",
    "m"
   ]
  }
 ],
 "metadata": {
  "jupytext": {
   "text_representation": {
    "extension": ".mystnb",
    "format_name": "myst"
   }
  },
  "language_info": {
   "codemirror_mode": {
    "name": "ipython",
    "version": 3
   },
   "file_extension": ".py",
   "mimetype": "text/x-python",
   "name": "python",
   "nbconvert_exporter": "python",
   "pygments_lexer": "ipython3",
   "version": "3.11.6"
  }
 },
 "nbformat": 4,
 "nbformat_minor": 5
}
