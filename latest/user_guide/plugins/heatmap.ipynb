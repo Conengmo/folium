{
 "cells": [
  {
   "cell_type": "markdown",
   "id": "33d9e7ac",
   "metadata": {},
   "source": [
    "## Heatmap"
   ]
  },
  {
   "cell_type": "code",
   "execution_count": 1,
   "id": "277a3bde",
   "metadata": {
    "execution": {
     "iopub.execute_input": "2023-10-16T12:50:04.728357Z",
     "iopub.status.busy": "2023-10-16T12:50:04.728161Z",
     "iopub.status.idle": "2023-10-16T12:50:04.787972Z",
     "shell.execute_reply": "2023-10-16T12:50:04.787490Z"
    }
   },
   "outputs": [],
   "source": [
    "import numpy as np\n",
    "\n",
    "data = (\n",
    "    np.random.normal(size=(100, 3)) * np.array([[1, 1, 1]]) + np.array([[48, 5, 1]])\n",
    ").tolist()"
   ]
  },
  {
   "cell_type": "code",
   "execution_count": 2,
   "id": "de9c5649",
   "metadata": {
    "execution": {
     "iopub.execute_input": "2023-10-16T12:50:04.791731Z",
     "iopub.status.busy": "2023-10-16T12:50:04.790811Z",
     "iopub.status.idle": "2023-10-16T12:50:05.245457Z",
     "shell.execute_reply": "2023-10-16T12:50:05.244890Z"
    }
   },
   "outputs": [
    {
     "data": {
      "text/html": [
       "<div style=\"width:100%;\"><div style=\"position:relative;width:100%;height:0;padding-bottom:60%;\"><span style=\"color:#565656\">Make this Notebook Trusted to load map: File -> Trust Notebook</span><iframe srcdoc=\"&lt;!DOCTYPE html&gt;\n",
       "&lt;html&gt;\n",
       "&lt;head&gt;\n",
       "    \n",
       "    &lt;meta http-equiv=&quot;content-type&quot; content=&quot;text/html; charset=UTF-8&quot; /&gt;\n",
       "    \n",
       "        &lt;script&gt;\n",
       "            L_NO_TOUCH = false;\n",
       "            L_DISABLE_3D = false;\n",
       "        &lt;/script&gt;\n",
       "    \n",
       "    &lt;style&gt;html, body {width: 100%;height: 100%;margin: 0;padding: 0;}&lt;/style&gt;\n",
       "    &lt;style&gt;#map {position:absolute;top:0;bottom:0;right:0;left:0;}&lt;/style&gt;\n",
       "    &lt;script src=&quot;https://cdn.jsdelivr.net/npm/leaflet@1.9.3/dist/leaflet.js&quot;&gt;&lt;/script&gt;\n",
       "    &lt;script src=&quot;https://code.jquery.com/jquery-1.12.4.min.js&quot;&gt;&lt;/script&gt;\n",
       "    &lt;script src=&quot;https://cdn.jsdelivr.net/npm/bootstrap@5.2.2/dist/js/bootstrap.bundle.min.js&quot;&gt;&lt;/script&gt;\n",
       "    &lt;script src=&quot;https://cdnjs.cloudflare.com/ajax/libs/Leaflet.awesome-markers/2.0.2/leaflet.awesome-markers.js&quot;&gt;&lt;/script&gt;\n",
       "    &lt;link rel=&quot;stylesheet&quot; href=&quot;https://cdn.jsdelivr.net/npm/leaflet@1.9.3/dist/leaflet.css&quot;/&gt;\n",
       "    &lt;link rel=&quot;stylesheet&quot; href=&quot;https://cdn.jsdelivr.net/npm/bootstrap@5.2.2/dist/css/bootstrap.min.css&quot;/&gt;\n",
       "    &lt;link rel=&quot;stylesheet&quot; href=&quot;https://netdna.bootstrapcdn.com/bootstrap/3.0.0/css/bootstrap.min.css&quot;/&gt;\n",
       "    &lt;link rel=&quot;stylesheet&quot; href=&quot;https://cdn.jsdelivr.net/npm/@fortawesome/fontawesome-free@6.2.0/css/all.min.css&quot;/&gt;\n",
       "    &lt;link rel=&quot;stylesheet&quot; href=&quot;https://cdnjs.cloudflare.com/ajax/libs/Leaflet.awesome-markers/2.0.2/leaflet.awesome-markers.css&quot;/&gt;\n",
       "    &lt;link rel=&quot;stylesheet&quot; href=&quot;https://cdn.jsdelivr.net/gh/python-visualization/folium/folium/templates/leaflet.awesome.rotate.min.css&quot;/&gt;\n",
       "    \n",
       "            &lt;meta name=&quot;viewport&quot; content=&quot;width=device-width,\n",
       "                initial-scale=1.0, maximum-scale=1.0, user-scalable=no&quot; /&gt;\n",
       "            &lt;style&gt;\n",
       "                #map_8cf64a69d06e8cb91ea7d6cd212389d6 {\n",
       "                    position: relative;\n",
       "                    width: 100.0%;\n",
       "                    height: 100.0%;\n",
       "                    left: 0.0%;\n",
       "                    top: 0.0%;\n",
       "                }\n",
       "                .leaflet-container { font-size: 1rem; }\n",
       "            &lt;/style&gt;\n",
       "        \n",
       "    &lt;script src=&quot;https://cdn.jsdelivr.net/gh/python-visualization/folium@main/folium/templates/leaflet_heat.min.js&quot;&gt;&lt;/script&gt;\n",
       "&lt;/head&gt;\n",
       "&lt;body&gt;\n",
       "    \n",
       "    \n",
       "            &lt;div class=&quot;folium-map&quot; id=&quot;map_8cf64a69d06e8cb91ea7d6cd212389d6&quot; &gt;&lt;/div&gt;\n",
       "        \n",
       "&lt;/body&gt;\n",
       "&lt;script&gt;\n",
       "    \n",
       "    \n",
       "            var map_8cf64a69d06e8cb91ea7d6cd212389d6 = L.map(\n",
       "                &quot;map_8cf64a69d06e8cb91ea7d6cd212389d6&quot;,\n",
       "                {\n",
       "                    center: [48.0, 5.0],\n",
       "                    crs: L.CRS.EPSG3857,\n",
       "                    zoom: 6,\n",
       "                    zoomControl: true,\n",
       "                    preferCanvas: false,\n",
       "                }\n",
       "            );\n",
       "\n",
       "            \n",
       "\n",
       "        \n",
       "    \n",
       "            var tile_layer_6d4bde43b31778a8b2085abde5aa3d73 = L.tileLayer(\n",
       "                &quot;https://stamen-tiles-{s}.a.ssl.fastly.net/toner/{z}/{x}/{y}.png&quot;,\n",
       "                {&quot;attribution&quot;: &quot;Map tiles by \\u003ca target=\\&quot;_blank\\&quot; href=\\&quot;http://stamen.com\\&quot;\\u003eStamen Design\\u003c/a\\u003e, under \\u003ca target=\\&quot;_blank\\&quot; href=\\&quot;http://creativecommons.org/licenses/by/3.0\\&quot;\\u003eCC BY 3.0\\u003c/a\\u003e. Data by \\u0026copy; \\u003ca target=\\&quot;_blank\\&quot; href=\\&quot;http://openstreetmap.org\\&quot;\\u003eOpenStreetMap\\u003c/a\\u003e, under \\u003ca target=\\&quot;_blank\\&quot; href=\\&quot;http://www.openstreetmap.org/copyright\\&quot;\\u003eODbL\\u003c/a\\u003e.&quot;, &quot;detectRetina&quot;: false, &quot;maxNativeZoom&quot;: 18, &quot;maxZoom&quot;: 18, &quot;minZoom&quot;: 0, &quot;noWrap&quot;: false, &quot;opacity&quot;: 1, &quot;subdomains&quot;: &quot;abc&quot;, &quot;tms&quot;: false}\n",
       "            );\n",
       "        \n",
       "    \n",
       "                tile_layer_6d4bde43b31778a8b2085abde5aa3d73.addTo(map_8cf64a69d06e8cb91ea7d6cd212389d6);\n",
       "    \n",
       "            var heat_map_a00bfde10c4efa654aaa4d21b1877025 = L.heatLayer(\n",
       "                [[47.369822160589095, 4.849893101608554, 0.6959527679029657], [48.8096699103441, 5.8175295350350416, 1.773932517076088], [49.210242618202265, 4.557738059246416, 0.5432147041286894], [47.57973114078573, 6.263646284396986, 0.9581467763977042], [47.943520733782464, 4.838319463370827, 0.820404110560391], [46.600277424396445, 4.879593855940917, 3.2720322271864077], [47.59347301165489, 4.885205969713909, 1.5577292484712424], [48.79192120396889, 6.0544746072398405, 0.5816403298081747], [47.80550337363271, 4.06805247731162, 1.3360665792774862], [47.024195042486255, 5.962053393159121, 1.3630714574992602], [47.28714983878298, 5.0292175063655895, 0.9297200753764338], [47.30620209714969, 5.860195554451651, 0.9679702312111675], [47.28965438005668, 3.1782321679915215, 0.756920531440524], [47.91442004905147, 3.7068483213139, 1.0135657836575225], [48.4737077859549, 5.8515965578840134, -0.5718058741425533], [48.551567307059045, 4.69915427383726, -0.4104189947154855], [49.27658291015633, 6.027234321604803, 0.8012885905940555], [48.493800356570084, 4.715077687005632, 0.7120835902314917], [47.426878521875736, 5.401423296946861, 0.07551908804115415], [46.87900177239703, 5.877734460153951, 0.18494031572979408], [48.40502518082943, 3.644739496132856, 1.7521556819770843], [47.98003887256262, 3.7830128125724345, -0.5142961373333954], [48.321723834058595, 5.933905348441066, 1.6340205953078155], [46.64033412384382, 4.7740600756527884, 1.6455201670272919], [47.78262008483124, 5.732256932045901, 2.0225342184512325], [47.915185690512, 4.5983506762259445, 0.8848778785372778], [48.80676392782003, 5.1790031855726095, 0.3019921501007218], [48.09273014869744, 4.619517009055104, -0.4003845194717075], [48.42910829365784, 5.914128579631198, 0.9703848844222133], [47.56013680320793, 5.696980402207187, -1.2471802209069138], [48.68072580365347, 5.423233530915377, 1.4270500166906899], [47.415558719842, 4.799408630197143, 0.690524365640638], [49.32046085466475, 4.064197568002516, 0.5831059049019146], [47.63099711002027, 3.7872861179331654, -0.10523531163033417], [46.67293728492318, 4.245907616300235, 2.3179996417244664], [46.13249832489014, 4.613763643841924, 1.1198766012316779], [47.746014609117594, 3.766577470911389, 1.4939675403625232], [46.100763271035, 5.666233837311964, 0.6865806603811258], [49.19051505173986, 4.992983382292669, 1.9380802656064824], [48.71689236543836, 5.424836033878176, -0.08702237661868861], [48.53780418020719, 4.304324487134719, 2.164336046036999], [49.489314473677105, 4.445811667144693, 1.4975833513627477], [46.96424453757613, 3.7353574471962, 0.20247996200397222], [47.37641001819745, 6.113142117127246, -0.7209207275339626], [46.67881542717891, 4.276360541487572, 0.46203031983137366], [47.153953290479365, 5.046297763056976, 1.1154322534943666], [49.10386107775604, 4.909760521009308, 1.4743639027839857], [48.45549328657485, 5.088297056712068, -1.4668752094671418], [48.04466282208515, 4.854482324969113, 0.016492900212371042], [47.72557890411307, 5.519659571755827, 2.3093474697774035], [48.05003505338479, 4.610229292842431, 0.8361634410437142], [47.01911004190466, 5.554597404006504, 1.745940488], [48.558817617321175, 4.943362226052514, 0.9731962655385156], [47.68925474530008, 3.8178764502695612, 0.8637168035725549], [49.1832946466375, 4.686163966601484, 1.6544916570911443], [47.91906637663772, 4.357147590225901, 1.2168321869572363], [46.59432328381297, 1.9341666153805157, -0.6402971259035768], [47.66425444107909, 4.6934166494790945, -0.27026772484009887], [48.51875687420664, 4.37157498072625, -0.2671103834038444], [47.08823048018565, 4.1928856670574595, -1.760577951815196], [48.106602649207986, 4.355282437816428, 0.22801772771763318], [47.397064888362735, 4.835844927834052, -0.5590596912717083], [49.129874439481185, 4.512821254494914, 0.47450817710015647], [48.220120981779345, 5.81114396861992, -0.086012112886102], [47.24256467419487, 4.107865682099338, -0.05030265731144801], [49.137543830516236, 3.0518366693311476, -0.7800742954906255], [47.99699895892018, 5.623114898640344, 1.156360590651609], [48.71947355069408, 4.993728800956053, 1.0832236585896582], [48.65815234497464, 2.734985200729557, 0.1951652568111103], [50.225074578599425, 4.433622693104584, 2.536578879216327], [48.65599325083198, 4.278859150471499, 0.22062412655309405], [46.97936462241004, 3.2517712684575613, 2.9546161742600754], [49.928587959440804, 3.7986182449628867, 1.1347562462238021], [49.83926963091459, 5.447539073591041, -0.8691651212657951], [48.13793594776217, 4.416244843564528, 2.3450397662942164], [48.3512516350786, 4.854336880149707, 1.2596197980009154], [49.0020381877236, 6.054561987604979, 1.9597429381134597], [48.3560148032478, 5.698897686650806, -0.552085460832404], [47.50830611337169, 4.094559909577918, 1.1727173607518768], [47.679795735434666, 5.926852248310436, -0.20135820724899411], [47.93319916941039, 4.754895316699144, 0.14899278299995722], [48.06360357874392, 5.920978486726955, 2.228132904746868], [48.103912146594595, 5.045391803498807, -0.37043215891812165], [47.457772498464294, 6.203565868791216, -1.1099322448601714], [48.55428297474052, 6.5253062316115615, 2.296505156231228], [47.24503228628201, 3.2934342119173525, -0.171728370564028], [48.001960679196955, 4.242425467509178, 0.6429130653771503], [49.0560095278464, 3.8852604129582, 1.508498884727624], [47.656759860136134, 5.7550765305458205, 0.17747109526660065], [49.69001467097158, 5.549451965369499, 0.24568814877926748], [46.29355332419241, 6.286145556216737, 1.2493788272754085], [47.87152692964145, 7.074776018806042, 0.322327948729077], [48.431380681859956, 6.234550230346224, 1.8466110229942334], [47.709219425587506, 6.108976019024296, 0.17948384313998278], [47.98008263020044, 6.127272939842339, 2.0591341615154883], [48.3398128103418, 5.82110976227583, 1.3969980753703657], [48.490802450529024, 6.178547788932158, 1.5163247976084662], [47.549427207700646, 5.3232499401422615, 0.6862970701266606], [47.87878019444666, 5.4040969160302685, 1.9876322801422548], [48.97899969859597, 5.254340048022203, 0.14922973289929276]],\n",
       "                {&quot;blur&quot;: 15, &quot;maxZoom&quot;: 18, &quot;minOpacity&quot;: 0.5, &quot;radius&quot;: 25}\n",
       "            );\n",
       "        \n",
       "    \n",
       "                heat_map_a00bfde10c4efa654aaa4d21b1877025.addTo(map_8cf64a69d06e8cb91ea7d6cd212389d6);\n",
       "&lt;/script&gt;\n",
       "&lt;/html&gt;\" style=\"position:absolute;width:100%;height:100%;left:0;top:0;border:none !important;\" allowfullscreen webkitallowfullscreen mozallowfullscreen></iframe></div></div>"
      ],
      "text/plain": [
       "<folium.folium.Map at 0x7f6f801c73d0>"
      ]
     },
     "execution_count": 2,
     "metadata": {},
     "output_type": "execute_result"
    }
   ],
   "source": [
    "import folium\n",
    "from folium.plugins import HeatMap\n",
    "\n",
    "m = folium.Map([48.0, 5.0], tiles=\"stamentoner\", zoom_start=6)\n",
    "\n",
    "HeatMap(data).add_to(m)\n",
    "\n",
    "m"
   ]
  }
 ],
 "metadata": {
  "jupytext": {
   "text_representation": {
    "extension": ".mystnb",
    "format_name": "myst"
   }
  },
  "language_info": {
   "codemirror_mode": {
    "name": "ipython",
    "version": 3
   },
   "file_extension": ".py",
   "mimetype": "text/x-python",
   "name": "python",
   "nbconvert_exporter": "python",
   "pygments_lexer": "ipython3",
   "version": "3.11.6"
  }
 },
 "nbformat": 4,
 "nbformat_minor": 5
}
