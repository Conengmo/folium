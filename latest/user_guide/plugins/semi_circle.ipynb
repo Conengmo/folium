{
 "cells": [
  {
   "cell_type": "code",
   "execution_count": 1,
   "id": "45481134",
   "metadata": {
    "execution": {
     "iopub.execute_input": "2023-09-06T11:21:00.444988Z",
     "iopub.status.busy": "2023-09-06T11:21:00.444588Z",
     "iopub.status.idle": "2023-09-06T11:21:00.963866Z",
     "shell.execute_reply": "2023-09-06T11:21:00.963246Z"
    },
    "nbsphinx": "hidden"
   },
   "outputs": [],
   "source": [
    "import folium\n",
    "import folium.plugins"
   ]
  },
  {
   "cell_type": "markdown",
   "id": "041c1121",
   "metadata": {},
   "source": [
    "## SemiCircle\n",
    "\n",
    "This can be used to display a semicircle or sector on a map. Whilst called SemiCircle it is not limited to 180 degree angles and can be used to display a sector of any angle.\n",
    "\n",
    "The semicircle is defined with a location (the central point, if it was a full circle), a radius and will either have a direction and an arc **or** a start angle and a stop angle."
   ]
  },
  {
   "cell_type": "code",
   "execution_count": 2,
   "id": "5e3118f2",
   "metadata": {
    "execution": {
     "iopub.execute_input": "2023-09-06T11:21:00.967516Z",
     "iopub.status.busy": "2023-09-06T11:21:00.967062Z",
     "iopub.status.idle": "2023-09-06T11:21:00.983893Z",
     "shell.execute_reply": "2023-09-06T11:21:00.983408Z"
    }
   },
   "outputs": [
    {
     "data": {
      "text/html": [
       "<div style=\"width:100%;\"><div style=\"position:relative;width:100%;height:0;padding-bottom:60%;\"><span style=\"color:#565656\">Make this Notebook Trusted to load map: File -> Trust Notebook</span><iframe srcdoc=\"&lt;!DOCTYPE html&gt;\n",
       "&lt;html&gt;\n",
       "&lt;head&gt;\n",
       "    \n",
       "    &lt;meta http-equiv=&quot;content-type&quot; content=&quot;text/html; charset=UTF-8&quot; /&gt;\n",
       "    \n",
       "        &lt;script&gt;\n",
       "            L_NO_TOUCH = false;\n",
       "            L_DISABLE_3D = false;\n",
       "        &lt;/script&gt;\n",
       "    \n",
       "    &lt;style&gt;html, body {width: 100%;height: 100%;margin: 0;padding: 0;}&lt;/style&gt;\n",
       "    &lt;style&gt;#map {position:absolute;top:0;bottom:0;right:0;left:0;}&lt;/style&gt;\n",
       "    &lt;script src=&quot;https://cdn.jsdelivr.net/npm/leaflet@1.9.3/dist/leaflet.js&quot;&gt;&lt;/script&gt;\n",
       "    &lt;script src=&quot;https://code.jquery.com/jquery-1.12.4.min.js&quot;&gt;&lt;/script&gt;\n",
       "    &lt;script src=&quot;https://cdn.jsdelivr.net/npm/bootstrap@5.2.2/dist/js/bootstrap.bundle.min.js&quot;&gt;&lt;/script&gt;\n",
       "    &lt;script src=&quot;https://cdnjs.cloudflare.com/ajax/libs/Leaflet.awesome-markers/2.0.2/leaflet.awesome-markers.js&quot;&gt;&lt;/script&gt;\n",
       "    &lt;link rel=&quot;stylesheet&quot; href=&quot;https://cdn.jsdelivr.net/npm/leaflet@1.9.3/dist/leaflet.css&quot;/&gt;\n",
       "    &lt;link rel=&quot;stylesheet&quot; href=&quot;https://cdn.jsdelivr.net/npm/bootstrap@5.2.2/dist/css/bootstrap.min.css&quot;/&gt;\n",
       "    &lt;link rel=&quot;stylesheet&quot; href=&quot;https://netdna.bootstrapcdn.com/bootstrap/3.0.0/css/bootstrap.min.css&quot;/&gt;\n",
       "    &lt;link rel=&quot;stylesheet&quot; href=&quot;https://cdn.jsdelivr.net/npm/@fortawesome/fontawesome-free@6.2.0/css/all.min.css&quot;/&gt;\n",
       "    &lt;link rel=&quot;stylesheet&quot; href=&quot;https://cdnjs.cloudflare.com/ajax/libs/Leaflet.awesome-markers/2.0.2/leaflet.awesome-markers.css&quot;/&gt;\n",
       "    &lt;link rel=&quot;stylesheet&quot; href=&quot;https://cdn.jsdelivr.net/gh/python-visualization/folium/folium/templates/leaflet.awesome.rotate.min.css&quot;/&gt;\n",
       "    \n",
       "            &lt;meta name=&quot;viewport&quot; content=&quot;width=device-width,\n",
       "                initial-scale=1.0, maximum-scale=1.0, user-scalable=no&quot; /&gt;\n",
       "            &lt;style&gt;\n",
       "                #map_f06374f936e986e771adb5f37838c5f9 {\n",
       "                    position: relative;\n",
       "                    width: 100.0%;\n",
       "                    height: 100.0%;\n",
       "                    left: 0.0%;\n",
       "                    top: 0.0%;\n",
       "                }\n",
       "                .leaflet-container { font-size: 1rem; }\n",
       "            &lt;/style&gt;\n",
       "        \n",
       "    &lt;script src=&quot;https://cdn.jsdelivr.net/npm/leaflet-semicircle@2.0.4/Semicircle.min.js&quot;&gt;&lt;/script&gt;\n",
       "&lt;/head&gt;\n",
       "&lt;body&gt;\n",
       "    \n",
       "    \n",
       "            &lt;div class=&quot;folium-map&quot; id=&quot;map_f06374f936e986e771adb5f37838c5f9&quot; &gt;&lt;/div&gt;\n",
       "        \n",
       "&lt;/body&gt;\n",
       "&lt;script&gt;\n",
       "    \n",
       "    \n",
       "            var map_f06374f936e986e771adb5f37838c5f9 = L.map(\n",
       "                &quot;map_f06374f936e986e771adb5f37838c5f9&quot;,\n",
       "                {\n",
       "                    center: [45.0, 3.0],\n",
       "                    crs: L.CRS.EPSG3857,\n",
       "                    zoom: 5,\n",
       "                    zoomControl: true,\n",
       "                    preferCanvas: false,\n",
       "                }\n",
       "            );\n",
       "\n",
       "            \n",
       "\n",
       "        \n",
       "    \n",
       "            var tile_layer_eb5fb8e4fe15cc6ff9f2f4e852a544a7 = L.tileLayer(\n",
       "                &quot;https://{s}.tile.openstreetmap.org/{z}/{x}/{y}.png&quot;,\n",
       "                {&quot;attribution&quot;: &quot;Data by \\u0026copy; \\u003ca target=\\&quot;_blank\\&quot; href=\\&quot;http://openstreetmap.org\\&quot;\\u003eOpenStreetMap\\u003c/a\\u003e, under \\u003ca target=\\&quot;_blank\\&quot; href=\\&quot;http://www.openstreetmap.org/copyright\\&quot;\\u003eODbL\\u003c/a\\u003e.&quot;, &quot;detectRetina&quot;: false, &quot;maxNativeZoom&quot;: 18, &quot;maxZoom&quot;: 18, &quot;minZoom&quot;: 0, &quot;noWrap&quot;: false, &quot;opacity&quot;: 1, &quot;subdomains&quot;: &quot;abc&quot;, &quot;tms&quot;: false}\n",
       "            );\n",
       "        \n",
       "    \n",
       "                tile_layer_eb5fb8e4fe15cc6ff9f2f4e852a544a7.addTo(map_f06374f936e986e771adb5f37838c5f9);\n",
       "    \n",
       "            var semi_circle_4839ea2c2d61a17848712791111e5d99 = L.semiCircle(\n",
       "                [45.0, 3.0],\n",
       "                {&quot;bubblingMouseEvents&quot;: true, &quot;color&quot;: &quot;green&quot;, &quot;dashArray&quot;: null, &quot;dashOffset&quot;: null, &quot;fill&quot;: true, &quot;fillColor&quot;: &quot;green&quot;, &quot;fillOpacity&quot;: 0.2, &quot;fillRule&quot;: &quot;evenodd&quot;, &quot;lineCap&quot;: &quot;round&quot;, &quot;lineJoin&quot;: &quot;round&quot;, &quot;opacity&quot;: 0, &quot;radius&quot;: 400000, &quot;startAngle&quot;: 50, &quot;stopAngle&quot;: 200, &quot;stroke&quot;: true, &quot;weight&quot;: 3}\n",
       "                )\n",
       "                .addTo(map_f06374f936e986e771adb5f37838c5f9);\n",
       "        \n",
       "    \n",
       "        var popup_4d4e2c6a252c417f0de1d2c8ad79aa94 = L.popup({&quot;maxWidth&quot;: &quot;100%&quot;});\n",
       "\n",
       "        \n",
       "            \n",
       "                var html_c9e831a5e906eeda04b2a063f5180e85 = $(`&lt;div id=&quot;html_c9e831a5e906eeda04b2a063f5180e85&quot; style=&quot;width: 100.0%; height: 100.0%;&quot;&gt;start angle - 50 degrees, stop angle - 200 degrees&lt;/div&gt;`)[0];\n",
       "                popup_4d4e2c6a252c417f0de1d2c8ad79aa94.setContent(html_c9e831a5e906eeda04b2a063f5180e85);\n",
       "            \n",
       "        \n",
       "\n",
       "        semi_circle_4839ea2c2d61a17848712791111e5d99.bindPopup(popup_4d4e2c6a252c417f0de1d2c8ad79aa94)\n",
       "        ;\n",
       "\n",
       "        \n",
       "    \n",
       "    \n",
       "            var semi_circle_37a27e5b17fcad66163c3409cf332c6e = L.semiCircle(\n",
       "                [46.5, 9.5],\n",
       "                {&quot;bubblingMouseEvents&quot;: true, &quot;color&quot;: &quot;red&quot;, &quot;dashArray&quot;: null, &quot;dashOffset&quot;: null, &quot;fill&quot;: true, &quot;fillColor&quot;: &quot;red&quot;, &quot;fillOpacity&quot;: 0.2, &quot;fillRule&quot;: &quot;evenodd&quot;, &quot;lineCap&quot;: &quot;round&quot;, &quot;lineJoin&quot;: &quot;round&quot;, &quot;opacity&quot;: 0, &quot;radius&quot;: 200000, &quot;stroke&quot;: true, &quot;weight&quot;: 3}\n",
       "                )\n",
       "                    .setDirection(360, 90)\n",
       "                .addTo(map_f06374f936e986e771adb5f37838c5f9);\n",
       "        \n",
       "    \n",
       "        var popup_e8ec3334b232f902d48fc1558b67d990 = L.popup({&quot;maxWidth&quot;: &quot;100%&quot;});\n",
       "\n",
       "        \n",
       "            \n",
       "                var html_2185c5b1b32834cd7f94018f0d9fa58b = $(`&lt;div id=&quot;html_2185c5b1b32834cd7f94018f0d9fa58b&quot; style=&quot;width: 100.0%; height: 100.0%;&quot;&gt;Direction - 0 degrees, arc 90 degrees&lt;/div&gt;`)[0];\n",
       "                popup_e8ec3334b232f902d48fc1558b67d990.setContent(html_2185c5b1b32834cd7f94018f0d9fa58b);\n",
       "            \n",
       "        \n",
       "\n",
       "        semi_circle_37a27e5b17fcad66163c3409cf332c6e.bindPopup(popup_e8ec3334b232f902d48fc1558b67d990)\n",
       "        ;\n",
       "\n",
       "        \n",
       "    \n",
       "&lt;/script&gt;\n",
       "&lt;/html&gt;\" style=\"position:absolute;width:100%;height:100%;left:0;top:0;border:none !important;\" allowfullscreen webkitallowfullscreen mozallowfullscreen></iframe></div></div>"
      ],
      "text/plain": [
       "<folium.folium.Map at 0x7f0410f3d890>"
      ]
     },
     "execution_count": 2,
     "metadata": {},
     "output_type": "execute_result"
    }
   ],
   "source": [
    "m = folium.Map([45, 3], zoom_start=5)\n",
    "\n",
    "folium.plugins.SemiCircle(\n",
    "    (45, 3),\n",
    "    radius=400000,\n",
    "    start_angle=50,\n",
    "    stop_angle=200,\n",
    "    color=\"green\",\n",
    "    fill_color=\"green\",\n",
    "    opacity=0,\n",
    "    popup=\"start angle - 50 degrees, stop angle - 200 degrees\",\n",
    ").add_to(m)\n",
    "\n",
    "folium.plugins.SemiCircle(\n",
    "    (46.5, 9.5),\n",
    "    radius=200000,\n",
    "    direction=360,\n",
    "    arc=90,\n",
    "    color=\"red\",\n",
    "    fill_color=\"red\",\n",
    "    opacity=0,\n",
    "    popup=\"Direction - 0 degrees, arc 90 degrees\",\n",
    ").add_to(m)\n",
    "\n",
    "m"
   ]
  }
 ],
 "metadata": {
  "jupytext": {
   "text_representation": {
    "extension": ".mystnb",
    "format_name": "myst"
   }
  },
  "language_info": {
   "codemirror_mode": {
    "name": "ipython",
    "version": 3
   },
   "file_extension": ".py",
   "mimetype": "text/x-python",
   "name": "python",
   "nbconvert_exporter": "python",
   "pygments_lexer": "ipython3",
   "version": "3.11.5"
  }
 },
 "nbformat": 4,
 "nbformat_minor": 5
}
